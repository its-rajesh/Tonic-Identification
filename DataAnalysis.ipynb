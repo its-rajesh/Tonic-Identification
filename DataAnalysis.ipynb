{
  "cells": [
    {
      "cell_type": "code",
      "execution_count": 227,
      "id": "88244c66",
      "metadata": {
        "id": "88244c66"
      },
      "outputs": [],
      "source": [
        "#Basic imports\n",
        "import os\n",
        "import matplotlib.pyplot as plt\n",
        "import numpy as np\n",
        "import pandas as pd\n",
        "import json\n",
        "import librosa\n",
        "import glob\n",
        "import requests\n",
        "from urllib.request import urlopen\n",
        "import time"
      ]
    },
    {
      "cell_type": "code",
      "execution_count": 228,
      "id": "01ee618a",
      "metadata": {
        "id": "01ee618a"
      },
      "outputs": [],
      "source": [
        "def read_csv(path):\n",
        "    df = pd.read_csv(path)\n",
        "    return df"
      ]
    },
    {
      "cell_type": "code",
      "execution_count": 229,
      "id": "2d4e6221",
      "metadata": {
        "id": "2d4e6221"
      },
      "outputs": [],
      "source": [
        "def plot_df(df,name):\n",
        "    plt.hist(df[name]) \n",
        "    plt.show()"
      ]
    },
    {
      "cell_type": "code",
      "execution_count": 230,
      "id": "554d4e3b",
      "metadata": {
        "id": "554d4e3b"
      },
      "outputs": [],
      "source": [
        "def plot_val(arr):\n",
        "    plt.hist(arr)\n",
        "    plt.show()"
      ]
    },
    {
      "cell_type": "code",
      "execution_count": 231,
      "id": "d8b5e534",
      "metadata": {
        "id": "d8b5e534"
      },
      "outputs": [],
      "source": [
        "Notes = ['C0', 'C#0', 'D0', 'D#0', 'E0', 'F0', 'F#0', 'G0', 'G#0', 'A0', 'A#0', 'B0','C1', 'C#1', 'D1', 'D#1', 'E1', 'F1', 'F#1', 'G1', 'G#1', 'A1', 'A#1', 'B1','C2', 'C#2', 'D2', 'D#2', 'E2', 'F2', 'F#2', 'G2', 'G#2', 'A2', 'A#2', 'B2','C3', 'C#3', 'D3', 'D#3', 'E3', 'F3', 'F#3', 'G3', 'G#3', 'A3', 'A#3', 'B3','C4', 'C#4', 'D4', 'D#4', 'E4', 'F4', 'F#4', 'G4', 'G#4', 'A4', 'A#4', 'B4','C5', 'C#5', 'D5', 'D#5', 'E5', 'F5', 'F#5', 'G5', 'G#5', 'A5', 'A#5', 'B5','C6', 'C#6', 'D6', 'D#6', 'E6', 'F6', 'F#6', 'G6', 'G#6', 'A6', 'A#6', 'B6','C7', 'C#7', 'D7', 'D#7', 'E7', 'F7', 'F#7', 'G7', 'G#7', 'A7', 'A#7', 'B7','C8', 'C#8', 'D8', 'D#8', 'E8', 'F8', 'F#8', 'G8', 'G#8', 'A8', 'A#8', 'B8']"
      ]
    },
    {
      "cell_type": "code",
      "execution_count": 232,
      "id": "5f6d2502",
      "metadata": {
        "id": "5f6d2502"
      },
      "outputs": [],
      "source": [
        "def get_notes_from_hz(Notes):\n",
        "    notes_values=[]\n",
        "    for i in Notes:\n",
        "        notes_values.append(librosa.note_to_hz(i))\n",
        "    return np.array(notes_values)"
      ]
    },
    {
      "cell_type": "code",
      "execution_count": 233,
      "id": "f55fa2a0",
      "metadata": {
        "id": "f55fa2a0"
      },
      "outputs": [],
      "source": [
        "def find_closest(arr, val,Notes):\n",
        "       idx = np.abs(arr - val).argmin()\n",
        "       return abs(arr[idx]-val),Notes[idx]"
      ]
    },
    {
      "cell_type": "code",
      "execution_count": 234,
      "id": "b00ee09b",
      "metadata": {
        "id": "b00ee09b"
      },
      "outputs": [],
      "source": [
        "def calculate_cents(f1,f2):\n",
        "    cents=(1200*(np.log(f2/f1)))/np.log(2)\n",
        "    return abs(cents)"
      ]
    },
    {
      "cell_type": "code",
      "execution_count": 235,
      "id": "9b495a29",
      "metadata": {
        "id": "9b495a29"
      },
      "outputs": [],
      "source": [
        "def get_cents(notes_values, tonic,cent_th):\n",
        "    cent_lst=[]\n",
        "    for i in notes_values:\n",
        "        cent_lst.append(calculate_cents(tonic,i))\n",
        "    cent_lst=np.array(cent_lst)\n",
        "    cent=cent_lst[cent_lst<cent_th]\n",
        "    return len(cent)"
      ]
    },
    {
      "cell_type": "code",
      "execution_count": 236,
      "id": "c5d8379d",
      "metadata": {
        "id": "c5d8379d"
      },
      "outputs": [],
      "source": [
        "def count_equal_temporal_values(notes_values,Notes,tonics,cent_th):\n",
        "    count_eq=0\n",
        "    for i in tonics:\n",
        "        c=get_cents(notes_values, i,cent_th)\n",
        "        count_eq+=c\n",
        "    return count_eq"
      ]
    },
    {
      "cell_type": "code",
      "execution_count": 237,
      "id": "fcc0bd6e",
      "metadata": {
        "id": "fcc0bd6e"
      },
      "outputs": [],
      "source": [
        "def get_diff_tonics(notes_values,Notes,tonics):\n",
        "    diff=[]\n",
        "    note=[]\n",
        "    for i in tonics:\n",
        "        d,n=find_closest(notes_values, i,Notes)\n",
        "        diff.append(d)\n",
        "        note.append(n)\n",
        "    return diff,note"
      ]
    },
    {
      "cell_type": "code",
      "execution_count": 238,
      "id": "275f733c",
      "metadata": {
        "id": "275f733c"
      },
      "outputs": [],
      "source": [
        "def get_files_in_folders(path,filetype):\n",
        "    filelist = []\n",
        "    for root, dirs, files in os.walk(path):\n",
        "        for file in files:\n",
        "            if(file.endswith(filetype)):\n",
        "                filelist.append(os.path.join(root,file))\n",
        "    return filelist"
      ]
    },
    {
      "cell_type": "code",
      "execution_count": 239,
      "id": "2566c7e9",
      "metadata": {
        "id": "2566c7e9"
      },
      "outputs": [],
      "source": [
        "def read_txt(path):\n",
        "    with open(path) as f:\n",
        "        lines = f.readline()\n",
        "        tonic=lines.split(\"\\n\")\n",
        "    return float(tonic[0])"
      ]
    },
    {
      "cell_type": "code",
      "execution_count": 240,
      "id": "183e8657",
      "metadata": {
        "id": "183e8657"
      },
      "outputs": [],
      "source": [
        "def get_tonic_from_txt(filelist):\n",
        "    tonic_lst=[]\n",
        "    for i in filelist:\n",
        "        tonic_lst.append(read_txt(i))\n",
        "    return tonic_lst"
      ]
    },
    {
      "cell_type": "code",
      "execution_count": 241,
      "id": "c881c056",
      "metadata": {
        "id": "c881c056"
      },
      "outputs": [],
      "source": [
        "def get_column_from_df(df,name):\n",
        "    return list(df[name])"
      ]
    },
    {
      "cell_type": "code",
      "execution_count": 242,
      "id": "449b2024",
      "metadata": {
        "id": "449b2024"
      },
      "outputs": [],
      "source": [
        "def try_url(url):\n",
        "    try:\n",
        "        response = urlopen(url)\n",
        "        data_json = json.loads(response.read()) \n",
        "        return data_json\n",
        "    except:\n",
        "        return \"Bad_Request\""
      ]
    },
    {
      "cell_type": "code",
      "execution_count": 243,
      "id": "4f0fcb78",
      "metadata": {
        "id": "4f0fcb78"
      },
      "outputs": [],
      "source": [
        "def get_data_from_mbid(mbid):\n",
        "    if mbid==\"-1\":\n",
        "        return \"mbid_missing\"\n",
        "    else:\n",
        "        url = \"https://musicbrainz.org/ws/2/recording/\"+mbid+\"/?fmt=json\"\n",
        "        print(url)\n",
        "        result=try_url(url)\n",
        "        time.sleep(0.2)\n",
        "        if result==\"Bad_Request\":\n",
        "            pass\n",
        "        else:\n",
        "            return result"
      ]
    },
    {
      "cell_type": "code",
      "execution_count": 244,
      "id": "5b26cf74",
      "metadata": {
        "id": "5b26cf74"
      },
      "outputs": [],
      "source": [
        "def get_list_of_data_from_mbid(mbids):\n",
        "    data=[]\n",
        "    #c=1\n",
        "    for i in mbids:\n",
        "        #print(c)\n",
        "        data.append(get_data_from_mbid(i))\n",
        "        #c+=1\n",
        "    return data"
      ]
    },
    {
      "cell_type": "code",
      "execution_count": 245,
      "id": "66850097",
      "metadata": {
        "id": "66850097"
      },
      "outputs": [],
      "source": [
        "def try_fetch_date(d,param):\n",
        "    try:\n",
        "        val=d[param]\n",
        "        return val\n",
        "    except:\n",
        "        val=\"DNA\"\n",
        "        return val"
      ]
    },
    {
      "cell_type": "code",
      "execution_count": 246,
      "id": "b8f11541",
      "metadata": {
        "id": "b8f11541"
      },
      "outputs": [],
      "source": [
        "def load_json(path):\n",
        "    f = open(path)\n",
        "    data = json.load(f)\n",
        "    return data"
      ]
    },
    {
      "cell_type": "code",
      "execution_count": 247,
      "id": "6b54c539",
      "metadata": {
        "id": "6b54c539"
      },
      "outputs": [],
      "source": [
        "def get_info_from_mbid_data(mbid_api_data,param):\n",
        "    info=[]\n",
        "    for i in mbid_api_data:\n",
        "        if type(i)==dict:\n",
        "            val=try_fetch_date(i,param)\n",
        "            info.append(val)\n",
        "        else:\n",
        "            info.append(\"mbid_missing\")\n",
        "    return info"
      ]
    },
    {
      "cell_type": "code",
      "execution_count": 248,
      "id": "fe9f3fa3",
      "metadata": {
        "id": "fe9f3fa3"
      },
      "outputs": [],
      "source": [
        "def process_date(date):\n",
        "    new_date=[]\n",
        "    for i in date:\n",
        "        if i==\"DNA\":\n",
        "            new_date.append(i)\n",
        "        elif i==\"mbid_missing\":\n",
        "            new_date.append(i)\n",
        "        else:\n",
        "            new_date.append(i[:4])\n",
        "    return new_date"
      ]
    },
    {
      "cell_type": "code",
      "execution_count": 249,
      "id": "a33b9c6d",
      "metadata": {
        "id": "a33b9c6d"
      },
      "outputs": [],
      "source": [
        "def count_values(arr,th):\n",
        "    c=0\n",
        "    for i in arr:\n",
        "        if i<th:\n",
        "            c+=1\n",
        "    return c"
      ]
    },
    {
      "cell_type": "code",
      "execution_count": 250,
      "id": "436047e5",
      "metadata": {
        "id": "436047e5"
      },
      "outputs": [],
      "source": [
        "def split_dataframe_by_year(df):\n",
        "    sorted_df = df.sort_values(by=['year'], ascending=True)\n",
        "    years= sorted_df['year'].unique()\n",
        "    data=[]\n",
        "    for i in years:\n",
        "        data.append(sorted_df[sorted_df['year']==i])\n",
        "    return data,years"
      ]
    },
    {
      "cell_type": "code",
      "execution_count": 251,
      "id": "438e1637",
      "metadata": {
        "id": "438e1637"
      },
      "outputs": [],
      "source": [
        "def split_dataframe_by_artist(df):\n",
        "    sorted_df = df.sort_values(by=['year'], ascending=True)\n",
        "    artists= sorted_df['artist'].unique()\n",
        "    data=[]\n",
        "    for i in artists:\n",
        "        data.append(sorted_df[sorted_df['artist']==i])\n",
        "    return data,artists"
      ]
    },
    {
      "cell_type": "code",
      "source": [
        "def split_dataframe_by_year_artist(df):\n",
        "    arr=df['year'].unique()\n",
        "    res=[]\n",
        "    for i in arr:\n",
        "        res.append(df[df[\"year\"]==i])\n",
        "    return res"
      ],
      "metadata": {
        "id": "D-9Y37hGQiLE"
      },
      "id": "D-9Y37hGQiLE",
      "execution_count": 252,
      "outputs": []
    },
    {
      "cell_type": "code",
      "source": [
        "def get_tonic_avg(df):\n",
        "    arr= split_dataframe_by_year_artist(df)\n",
        "    year=[]\n",
        "    avg_tonic=[]\n",
        "    for i in arr:\n",
        "        avg_tonic.append(sum(i[\"tonic\"])/len(i[\"tonic\"]))\n",
        "        year.append(i['year'].unique())\n",
        "    return year,avg_tonic"
      ],
      "metadata": {
        "id": "yjgIIEiwQn-I"
      },
      "id": "yjgIIEiwQn-I",
      "execution_count": 253,
      "outputs": []
    },
    {
      "cell_type": "code",
      "execution_count": 254,
      "id": "8c29a22a",
      "metadata": {
        "id": "8c29a22a"
      },
      "outputs": [],
      "source": [
        "def get_ratio(diff,th):\n",
        "    ratio=[]\n",
        "    count=[]\n",
        "    count_d=[]\n",
        "    for i in range(len(diff)):\n",
        "        ratio.append(count_values(diff[i],th)/len(diff[i]))\n",
        "        count.append(len(diff[i]))\n",
        "        count_d.append(count_values(diff[i],th))\n",
        "    return ratio,count,count_d"
      ]
    },
    {
      "cell_type": "code",
      "execution_count": 255,
      "id": "4374179a",
      "metadata": {
        "id": "4374179a"
      },
      "outputs": [],
      "source": [
        "def print_data_for_comparison(ratio,count,year,count_d):\n",
        "    for i in range(len(ratio)):\n",
        "        print(year[i],end=\" \")\n",
        "        print(count[i],count_d[i],ratio[i])"
      ]
    },
    {
      "cell_type": "code",
      "execution_count": 256,
      "id": "04d98605",
      "metadata": {
        "id": "04d98605"
      },
      "outputs": [],
      "source": [
        "# df=read_csv(\"all_data_updated.csv\")\n",
        "# df\n",
        "# mbids=get_column_from_df(df,\"mbid\")\n",
        "# mbid_data=get_list_of_data_from_mbid(mbids)\n",
        "# mbid_api_data=load_json(\"mbid_data.json\")\n",
        "# date=get_info_from_mbid_data(mbid_api_data,\"first-release-date\")\n",
        "# processed_date=process_date(date)\n",
        "# print(processed_date.count(\"mbid_missing\"))\n",
        "# print(processed_date.count(\"DNA\"))"
      ]
    },
    {
      "cell_type": "code",
      "source": [
        "from google.colab import drive\n",
        "drive.mount('/drive')"
      ],
      "metadata": {
        "colab": {
          "base_uri": "https://localhost:8080/"
        },
        "id": "Ia5PebXG9mi0",
        "outputId": "b008537d-ac44-44ad-ade0-8951f731e274"
      },
      "id": "Ia5PebXG9mi0",
      "execution_count": 257,
      "outputs": [
        {
          "output_type": "stream",
          "name": "stdout",
          "text": [
            "Drive already mounted at /drive; to attempt to forcibly remount, call drive.mount(\"/drive\", force_remount=True).\n"
          ]
        }
      ]
    },
    {
      "cell_type": "code",
      "execution_count": 258,
      "id": "923c265e",
      "metadata": {
        "id": "923c265e"
      },
      "outputs": [],
      "source": [
        "mbid_api_data=load_json(\"/drive/My Drive/Tonic_Identification/mbid_data.json\")"
      ]
    },
    {
      "cell_type": "code",
      "execution_count": 259,
      "id": "5d44a06b",
      "metadata": {
        "colab": {
          "base_uri": "https://localhost:8080/",
          "height": 765
        },
        "id": "5d44a06b",
        "outputId": "3e3142a2-8c5f-4aa0-ae07-5dde0709f48c"
      },
      "outputs": [
        {
          "output_type": "execute_result",
          "data": {
            "text/plain": [
              "      Unnamed: 0  Unnamed: 0.1  \\\n",
              "0              0             0   \n",
              "1              1             1   \n",
              "2              2             2   \n",
              "3              3             3   \n",
              "4              4             4   \n",
              "...          ...           ...   \n",
              "2194        2194          2194   \n",
              "2195        2195          2195   \n",
              "2196        2196          2196   \n",
              "2197        2197          2197   \n",
              "2198        2198          2198   \n",
              "\n",
              "                                         Unnamed: 0.1.1    tonic  \\\n",
              "0     TonicDataset/CM/audio/402f49e2-5957-4b24-9229-...  161.748   \n",
              "1     TonicDataset/CM/audio/0640aaa2-45c8-48ef-b1ed-...  161.743   \n",
              "2     TonicDataset/CM/audio/90c3b772-189c-411e-aea5-...  154.871   \n",
              "3     TonicDataset/CM/audio/c5976719-6376-4522-b62e-...  161.845   \n",
              "4     TonicDataset/CM/audio/6f4cc2d5-b062-40f9-bdf1-...  156.456   \n",
              "...                                                 ...      ...   \n",
              "2194  TonicDataset/IITM/audio/Tonic_Data2/TNSKamboji...  142.000   \n",
              "2195  TonicDataset/IITM/audio/Tonic_Data3/557-TMKris...  146.750   \n",
              "2196  TonicDataset/IITM/audio/Tonic_Data2/TMKKamboji...  145.400   \n",
              "2197  TonicDataset/IITM/audio/Tonic_Data3/032-Palgha...  135.500   \n",
              "2198  TonicDataset/IITM/audio/Tonic_Data3/559-Hydera...  191.300   \n",
              "\n",
              "                 artist   gender  \\\n",
              "0        L. Subramaniam     Male   \n",
              "1        L. Subramaniam     Male   \n",
              "2     Baluji Shrivastav  unknown   \n",
              "3        L. Subramaniam     Male   \n",
              "4              Shashank  unknown   \n",
              "...                 ...      ...   \n",
              "2194                NaN     Male   \n",
              "2195                NaN     Male   \n",
              "2196                NaN     Male   \n",
              "2197                NaN     Male   \n",
              "2198                NaN   Female   \n",
              "\n",
              "                                               filepath  \\\n",
              "0     TonicDataset/CM/audio/402f49e2-5957-4b24-9229-...   \n",
              "1     TonicDataset/CM/audio/0640aaa2-45c8-48ef-b1ed-...   \n",
              "2     TonicDataset/CM/audio/90c3b772-189c-411e-aea5-...   \n",
              "3     TonicDataset/CM/audio/c5976719-6376-4522-b62e-...   \n",
              "4     TonicDataset/CM/audio/6f4cc2d5-b062-40f9-bdf1-...   \n",
              "...                                                 ...   \n",
              "2194  TonicDataset/IITM/audio/Tonic_Data2/TNSKamboji...   \n",
              "2195  TonicDataset/IITM/audio/Tonic_Data3/557-TMKris...   \n",
              "2196  TonicDataset/IITM/audio/Tonic_Data2/TMKKamboji...   \n",
              "2197  TonicDataset/IITM/audio/Tonic_Data3/032-Palgha...   \n",
              "2198  TonicDataset/IITM/audio/Tonic_Data3/559-Hydera...   \n",
              "\n",
              "                                      mbid          type   tradition  \\\n",
              "0     402f49e2-5957-4b24-9229-0c94b0c4c07d  instrumental    Carnatic   \n",
              "1     0640aaa2-45c8-48ef-b1ed-7ed878d4f40c  instrumental    Carnatic   \n",
              "2     90c3b772-189c-411e-aea5-a7c6ee9748a7  instrumental  Hindustani   \n",
              "3     c5976719-6376-4522-b62e-1cad0136aebc  instrumental    Carnatic   \n",
              "4     6f4cc2d5-b062-40f9-bdf1-eb961e6f8f45  instrumental    Carnatic   \n",
              "...                                    ...           ...         ...   \n",
              "2194                                    -1           NaN         NaN   \n",
              "2195                                    -1           NaN         NaN   \n",
              "2196                                    -1           NaN         NaN   \n",
              "2197                                    -1           NaN         NaN   \n",
              "2198                                    -1           NaN         NaN   \n",
              "\n",
              "              year  \n",
              "0             1988  \n",
              "1             1988  \n",
              "2             1997  \n",
              "3             1988  \n",
              "4             2008  \n",
              "...            ...  \n",
              "2194  mbid_missing  \n",
              "2195  mbid_missing  \n",
              "2196  mbid_missing  \n",
              "2197  mbid_missing  \n",
              "2198  mbid_missing  \n",
              "\n",
              "[2199 rows x 11 columns]"
            ],
            "text/html": [
              "\n",
              "  <div id=\"df-fe8b65c8-d5ac-4ba7-b176-1b076b93e380\">\n",
              "    <div class=\"colab-df-container\">\n",
              "      <div>\n",
              "<style scoped>\n",
              "    .dataframe tbody tr th:only-of-type {\n",
              "        vertical-align: middle;\n",
              "    }\n",
              "\n",
              "    .dataframe tbody tr th {\n",
              "        vertical-align: top;\n",
              "    }\n",
              "\n",
              "    .dataframe thead th {\n",
              "        text-align: right;\n",
              "    }\n",
              "</style>\n",
              "<table border=\"1\" class=\"dataframe\">\n",
              "  <thead>\n",
              "    <tr style=\"text-align: right;\">\n",
              "      <th></th>\n",
              "      <th>Unnamed: 0</th>\n",
              "      <th>Unnamed: 0.1</th>\n",
              "      <th>Unnamed: 0.1.1</th>\n",
              "      <th>tonic</th>\n",
              "      <th>artist</th>\n",
              "      <th>gender</th>\n",
              "      <th>filepath</th>\n",
              "      <th>mbid</th>\n",
              "      <th>type</th>\n",
              "      <th>tradition</th>\n",
              "      <th>year</th>\n",
              "    </tr>\n",
              "  </thead>\n",
              "  <tbody>\n",
              "    <tr>\n",
              "      <th>0</th>\n",
              "      <td>0</td>\n",
              "      <td>0</td>\n",
              "      <td>TonicDataset/CM/audio/402f49e2-5957-4b24-9229-...</td>\n",
              "      <td>161.748</td>\n",
              "      <td>L. Subramaniam</td>\n",
              "      <td>Male</td>\n",
              "      <td>TonicDataset/CM/audio/402f49e2-5957-4b24-9229-...</td>\n",
              "      <td>402f49e2-5957-4b24-9229-0c94b0c4c07d</td>\n",
              "      <td>instrumental</td>\n",
              "      <td>Carnatic</td>\n",
              "      <td>1988</td>\n",
              "    </tr>\n",
              "    <tr>\n",
              "      <th>1</th>\n",
              "      <td>1</td>\n",
              "      <td>1</td>\n",
              "      <td>TonicDataset/CM/audio/0640aaa2-45c8-48ef-b1ed-...</td>\n",
              "      <td>161.743</td>\n",
              "      <td>L. Subramaniam</td>\n",
              "      <td>Male</td>\n",
              "      <td>TonicDataset/CM/audio/0640aaa2-45c8-48ef-b1ed-...</td>\n",
              "      <td>0640aaa2-45c8-48ef-b1ed-7ed878d4f40c</td>\n",
              "      <td>instrumental</td>\n",
              "      <td>Carnatic</td>\n",
              "      <td>1988</td>\n",
              "    </tr>\n",
              "    <tr>\n",
              "      <th>2</th>\n",
              "      <td>2</td>\n",
              "      <td>2</td>\n",
              "      <td>TonicDataset/CM/audio/90c3b772-189c-411e-aea5-...</td>\n",
              "      <td>154.871</td>\n",
              "      <td>Baluji Shrivastav</td>\n",
              "      <td>unknown</td>\n",
              "      <td>TonicDataset/CM/audio/90c3b772-189c-411e-aea5-...</td>\n",
              "      <td>90c3b772-189c-411e-aea5-a7c6ee9748a7</td>\n",
              "      <td>instrumental</td>\n",
              "      <td>Hindustani</td>\n",
              "      <td>1997</td>\n",
              "    </tr>\n",
              "    <tr>\n",
              "      <th>3</th>\n",
              "      <td>3</td>\n",
              "      <td>3</td>\n",
              "      <td>TonicDataset/CM/audio/c5976719-6376-4522-b62e-...</td>\n",
              "      <td>161.845</td>\n",
              "      <td>L. Subramaniam</td>\n",
              "      <td>Male</td>\n",
              "      <td>TonicDataset/CM/audio/c5976719-6376-4522-b62e-...</td>\n",
              "      <td>c5976719-6376-4522-b62e-1cad0136aebc</td>\n",
              "      <td>instrumental</td>\n",
              "      <td>Carnatic</td>\n",
              "      <td>1988</td>\n",
              "    </tr>\n",
              "    <tr>\n",
              "      <th>4</th>\n",
              "      <td>4</td>\n",
              "      <td>4</td>\n",
              "      <td>TonicDataset/CM/audio/6f4cc2d5-b062-40f9-bdf1-...</td>\n",
              "      <td>156.456</td>\n",
              "      <td>Shashank</td>\n",
              "      <td>unknown</td>\n",
              "      <td>TonicDataset/CM/audio/6f4cc2d5-b062-40f9-bdf1-...</td>\n",
              "      <td>6f4cc2d5-b062-40f9-bdf1-eb961e6f8f45</td>\n",
              "      <td>instrumental</td>\n",
              "      <td>Carnatic</td>\n",
              "      <td>2008</td>\n",
              "    </tr>\n",
              "    <tr>\n",
              "      <th>...</th>\n",
              "      <td>...</td>\n",
              "      <td>...</td>\n",
              "      <td>...</td>\n",
              "      <td>...</td>\n",
              "      <td>...</td>\n",
              "      <td>...</td>\n",
              "      <td>...</td>\n",
              "      <td>...</td>\n",
              "      <td>...</td>\n",
              "      <td>...</td>\n",
              "      <td>...</td>\n",
              "    </tr>\n",
              "    <tr>\n",
              "      <th>2194</th>\n",
              "      <td>2194</td>\n",
              "      <td>2194</td>\n",
              "      <td>TonicDataset/IITM/audio/Tonic_Data2/TNSKamboji...</td>\n",
              "      <td>142.000</td>\n",
              "      <td>NaN</td>\n",
              "      <td>Male</td>\n",
              "      <td>TonicDataset/IITM/audio/Tonic_Data2/TNSKamboji...</td>\n",
              "      <td>-1</td>\n",
              "      <td>NaN</td>\n",
              "      <td>NaN</td>\n",
              "      <td>mbid_missing</td>\n",
              "    </tr>\n",
              "    <tr>\n",
              "      <th>2195</th>\n",
              "      <td>2195</td>\n",
              "      <td>2195</td>\n",
              "      <td>TonicDataset/IITM/audio/Tonic_Data3/557-TMKris...</td>\n",
              "      <td>146.750</td>\n",
              "      <td>NaN</td>\n",
              "      <td>Male</td>\n",
              "      <td>TonicDataset/IITM/audio/Tonic_Data3/557-TMKris...</td>\n",
              "      <td>-1</td>\n",
              "      <td>NaN</td>\n",
              "      <td>NaN</td>\n",
              "      <td>mbid_missing</td>\n",
              "    </tr>\n",
              "    <tr>\n",
              "      <th>2196</th>\n",
              "      <td>2196</td>\n",
              "      <td>2196</td>\n",
              "      <td>TonicDataset/IITM/audio/Tonic_Data2/TMKKamboji...</td>\n",
              "      <td>145.400</td>\n",
              "      <td>NaN</td>\n",
              "      <td>Male</td>\n",
              "      <td>TonicDataset/IITM/audio/Tonic_Data2/TMKKamboji...</td>\n",
              "      <td>-1</td>\n",
              "      <td>NaN</td>\n",
              "      <td>NaN</td>\n",
              "      <td>mbid_missing</td>\n",
              "    </tr>\n",
              "    <tr>\n",
              "      <th>2197</th>\n",
              "      <td>2197</td>\n",
              "      <td>2197</td>\n",
              "      <td>TonicDataset/IITM/audio/Tonic_Data3/032-Palgha...</td>\n",
              "      <td>135.500</td>\n",
              "      <td>NaN</td>\n",
              "      <td>Male</td>\n",
              "      <td>TonicDataset/IITM/audio/Tonic_Data3/032-Palgha...</td>\n",
              "      <td>-1</td>\n",
              "      <td>NaN</td>\n",
              "      <td>NaN</td>\n",
              "      <td>mbid_missing</td>\n",
              "    </tr>\n",
              "    <tr>\n",
              "      <th>2198</th>\n",
              "      <td>2198</td>\n",
              "      <td>2198</td>\n",
              "      <td>TonicDataset/IITM/audio/Tonic_Data3/559-Hydera...</td>\n",
              "      <td>191.300</td>\n",
              "      <td>NaN</td>\n",
              "      <td>Female</td>\n",
              "      <td>TonicDataset/IITM/audio/Tonic_Data3/559-Hydera...</td>\n",
              "      <td>-1</td>\n",
              "      <td>NaN</td>\n",
              "      <td>NaN</td>\n",
              "      <td>mbid_missing</td>\n",
              "    </tr>\n",
              "  </tbody>\n",
              "</table>\n",
              "<p>2199 rows × 11 columns</p>\n",
              "</div>\n",
              "      <button class=\"colab-df-convert\" onclick=\"convertToInteractive('df-fe8b65c8-d5ac-4ba7-b176-1b076b93e380')\"\n",
              "              title=\"Convert this dataframe to an interactive table.\"\n",
              "              style=\"display:none;\">\n",
              "        \n",
              "  <svg xmlns=\"http://www.w3.org/2000/svg\" height=\"24px\"viewBox=\"0 0 24 24\"\n",
              "       width=\"24px\">\n",
              "    <path d=\"M0 0h24v24H0V0z\" fill=\"none\"/>\n",
              "    <path d=\"M18.56 5.44l.94 2.06.94-2.06 2.06-.94-2.06-.94-.94-2.06-.94 2.06-2.06.94zm-11 1L8.5 8.5l.94-2.06 2.06-.94-2.06-.94L8.5 2.5l-.94 2.06-2.06.94zm10 10l.94 2.06.94-2.06 2.06-.94-2.06-.94-.94-2.06-.94 2.06-2.06.94z\"/><path d=\"M17.41 7.96l-1.37-1.37c-.4-.4-.92-.59-1.43-.59-.52 0-1.04.2-1.43.59L10.3 9.45l-7.72 7.72c-.78.78-.78 2.05 0 2.83L4 21.41c.39.39.9.59 1.41.59.51 0 1.02-.2 1.41-.59l7.78-7.78 2.81-2.81c.8-.78.8-2.07 0-2.86zM5.41 20L4 18.59l7.72-7.72 1.47 1.35L5.41 20z\"/>\n",
              "  </svg>\n",
              "      </button>\n",
              "      \n",
              "  <style>\n",
              "    .colab-df-container {\n",
              "      display:flex;\n",
              "      flex-wrap:wrap;\n",
              "      gap: 12px;\n",
              "    }\n",
              "\n",
              "    .colab-df-convert {\n",
              "      background-color: #E8F0FE;\n",
              "      border: none;\n",
              "      border-radius: 50%;\n",
              "      cursor: pointer;\n",
              "      display: none;\n",
              "      fill: #1967D2;\n",
              "      height: 32px;\n",
              "      padding: 0 0 0 0;\n",
              "      width: 32px;\n",
              "    }\n",
              "\n",
              "    .colab-df-convert:hover {\n",
              "      background-color: #E2EBFA;\n",
              "      box-shadow: 0px 1px 2px rgba(60, 64, 67, 0.3), 0px 1px 3px 1px rgba(60, 64, 67, 0.15);\n",
              "      fill: #174EA6;\n",
              "    }\n",
              "\n",
              "    [theme=dark] .colab-df-convert {\n",
              "      background-color: #3B4455;\n",
              "      fill: #D2E3FC;\n",
              "    }\n",
              "\n",
              "    [theme=dark] .colab-df-convert:hover {\n",
              "      background-color: #434B5C;\n",
              "      box-shadow: 0px 1px 3px 1px rgba(0, 0, 0, 0.15);\n",
              "      filter: drop-shadow(0px 1px 2px rgba(0, 0, 0, 0.3));\n",
              "      fill: #FFFFFF;\n",
              "    }\n",
              "  </style>\n",
              "\n",
              "      <script>\n",
              "        const buttonEl =\n",
              "          document.querySelector('#df-fe8b65c8-d5ac-4ba7-b176-1b076b93e380 button.colab-df-convert');\n",
              "        buttonEl.style.display =\n",
              "          google.colab.kernel.accessAllowed ? 'block' : 'none';\n",
              "\n",
              "        async function convertToInteractive(key) {\n",
              "          const element = document.querySelector('#df-fe8b65c8-d5ac-4ba7-b176-1b076b93e380');\n",
              "          const dataTable =\n",
              "            await google.colab.kernel.invokeFunction('convertToInteractive',\n",
              "                                                     [key], {});\n",
              "          if (!dataTable) return;\n",
              "\n",
              "          const docLinkHtml = 'Like what you see? Visit the ' +\n",
              "            '<a target=\"_blank\" href=https://colab.research.google.com/notebooks/data_table.ipynb>data table notebook</a>'\n",
              "            + ' to learn more about interactive tables.';\n",
              "          element.innerHTML = '';\n",
              "          dataTable['output_type'] = 'display_data';\n",
              "          await google.colab.output.renderOutput(dataTable, element);\n",
              "          const docLink = document.createElement('div');\n",
              "          docLink.innerHTML = docLinkHtml;\n",
              "          element.appendChild(docLink);\n",
              "        }\n",
              "      </script>\n",
              "    </div>\n",
              "  </div>\n",
              "  "
            ]
          },
          "metadata": {},
          "execution_count": 259
        }
      ],
      "source": [
        "df=read_csv(\"/drive/My Drive/Tonic_Identification/all_data_with_date.csv\")\n",
        "df"
      ]
    },
    {
      "cell_type": "code",
      "execution_count": 260,
      "id": "3a7a3ec8",
      "metadata": {
        "id": "3a7a3ec8"
      },
      "outputs": [],
      "source": [
        "notes_hz=get_notes_from_hz(Notes)"
      ]
    },
    {
      "cell_type": "code",
      "execution_count": 261,
      "id": "c52ef273",
      "metadata": {
        "id": "c52ef273",
        "colab": {
          "base_uri": "https://localhost:8080/"
        },
        "outputId": "48ecf27d-5af8-4130-d231-96b3fbfdae2c"
      },
      "outputs": [
        {
          "output_type": "execute_result",
          "data": {
            "text/plain": [
              "116"
            ]
          },
          "metadata": {},
          "execution_count": 261
        }
      ],
      "source": [
        "data_year_wise,years1=split_dataframe_by_year(df)\n",
        "data_artist_wise,years2=split_dataframe_by_artist(df)\n",
        "len(data_artist_wise)"
      ]
    },
    {
      "cell_type": "code",
      "execution_count": 168,
      "id": "fa1b8824",
      "metadata": {
        "id": "fa1b8824"
      },
      "outputs": [],
      "source": [
        "diff,note=[],[]\n",
        "for i in data_year_wise:\n",
        "    d,n=get_diff_tonics(notes_hz,Notes,i[\"tonic\"])\n",
        "    diff.append(d)\n",
        "    note.append(n)"
      ]
    },
    {
      "cell_type": "code",
      "execution_count": 169,
      "id": "ae2284d4",
      "metadata": {
        "id": "ae2284d4"
      },
      "outputs": [],
      "source": [
        "ratio,count,count_d=get_ratio(diff,2)"
      ]
    },
    {
      "cell_type": "code",
      "execution_count": 170,
      "id": "2e761b22",
      "metadata": {
        "colab": {
          "base_uri": "https://localhost:8080/"
        },
        "id": "2e761b22",
        "outputId": "9f56e796-3ae6-4ee7-cb28-71f6fee22b5d"
      },
      "outputs": [
        {
          "output_type": "stream",
          "name": "stdout",
          "text": [
            "1956 7 0 0.0\n",
            "1987 3 0 0.0\n",
            "1988 7 0 0.0\n",
            "1989 8 0 0.0\n",
            "1990 16 11 0.6875\n",
            "1991 5 5 1.0\n",
            "1992 46 22 0.4782608695652174\n",
            "1993 12 0 0.0\n",
            "1994 50 29 0.58\n",
            "1995 25 10 0.4\n",
            "1996 26 16 0.6153846153846154\n",
            "1997 27 24 0.8888888888888888\n",
            "1998 28 11 0.39285714285714285\n",
            "1999 18 0 0.0\n",
            "2000 24 15 0.625\n",
            "2001 87 51 0.5862068965517241\n",
            "2002 61 16 0.26229508196721313\n",
            "2003 35 30 0.8571428571428571\n",
            "2004 34 29 0.8529411764705882\n",
            "2005 74 32 0.43243243243243246\n",
            "2006 77 53 0.6883116883116883\n",
            "2007 85 34 0.4\n",
            "2008 142 75 0.528169014084507\n",
            "2009 126 65 0.5158730158730159\n",
            "2010 257 177 0.688715953307393\n",
            "2011 244 123 0.5040983606557377\n",
            "DNA 110 36 0.32727272727272727\n",
            "mbid_missing 565 312 0.552212389380531\n"
          ]
        }
      ],
      "source": [
        "print_data_for_comparison(ratio,count,years1,count_d)"
      ]
    },
    {
      "cell_type": "code",
      "execution_count": 170,
      "id": "0c2efc02",
      "metadata": {
        "id": "0c2efc02"
      },
      "outputs": [],
      "source": []
    },
    {
      "cell_type": "code",
      "execution_count": 171,
      "id": "4f6e674c",
      "metadata": {
        "id": "4f6e674c"
      },
      "outputs": [],
      "source": [
        "equi_temporal=[]\n",
        "for i in data_year_wise:\n",
        "    c=count_equal_temporal_values(notes_hz,Notes,i[\"tonic\"],cent_th=10)\n",
        "    equi_temporal.append(c)"
      ]
    },
    {
      "cell_type": "code",
      "execution_count": 172,
      "id": "aad95de8",
      "metadata": {
        "colab": {
          "base_uri": "https://localhost:8080/",
          "height": 409
        },
        "id": "aad95de8",
        "outputId": "dd88abba-2698-4665-8ad9-257c3c461030"
      },
      "outputs": [
        {
          "output_type": "display_data",
          "data": {
            "text/plain": [
              "<Figure size 1200x480 with 1 Axes>"
            ],
            "image/png": "[encoded data removed]"
          },
          "metadata": {
            "needs_background": "light"
          }
        }
      ],
      "source": [
        "plt.figure(figsize=(15, 6), dpi=80)\n",
        "plt.plot(years1[:-2],equi_temporal[:-2])\n",
        "plt.tick_params(axis='x', which='major', labelsize=6)\n",
        "plt.show()"
      ]
    },
    {
      "cell_type": "code",
      "source": [
        "year_string = [str(i) for i in years1]\n",
        "\n",
        "data_list = pd.DataFrame(\n",
        "    {'No of Samples': count[4:-2],\n",
        "     'Near to Equitempered': equi_temporal[4:-2],\n",
        "     'Year': year_string[4:-2]\n",
        "    })\n",
        "\n",
        "data_list.head()"
      ],
      "metadata": {
        "colab": {
          "base_uri": "https://localhost:8080/",
          "height": 206
        },
        "id": "VQ0E2Sy-_q8s",
        "outputId": "df1c537d-db1a-4ef6-d6f8-b616bb2f4ee9"
      },
      "id": "VQ0E2Sy-_q8s",
      "execution_count": 173,
      "outputs": [
        {
          "output_type": "execute_result",
          "data": {
            "text/plain": [
              "   No of Samples  Near to Equitempered  Year\n",
              "0             16                     2  1990\n",
              "1              5                     2  1991\n",
              "2             46                    17  1992\n",
              "3             12                     0  1993\n",
              "4             50                    13  1994"
            ],
            "text/html": [
              "\n",
              "  <div id=\"df-81d6d060-725e-417d-81cb-2347cfcfe8c8\">\n",
              "    <div class=\"colab-df-container\">\n",
              "      <div>\n",
              "<style scoped>\n",
              "    .dataframe tbody tr th:only-of-type {\n",
              "        vertical-align: middle;\n",
              "    }\n",
              "\n",
              "    .dataframe tbody tr th {\n",
              "        vertical-align: top;\n",
              "    }\n",
              "\n",
              "    .dataframe thead th {\n",
              "        text-align: right;\n",
              "    }\n",
              "</style>\n",
              "<table border=\"1\" class=\"dataframe\">\n",
              "  <thead>\n",
              "    <tr style=\"text-align: right;\">\n",
              "      <th></th>\n",
              "      <th>No of Samples</th>\n",
              "      <th>Near to Equitempered</th>\n",
              "      <th>Year</th>\n",
              "    </tr>\n",
              "  </thead>\n",
              "  <tbody>\n",
              "    <tr>\n",
              "      <th>0</th>\n",
              "      <td>16</td>\n",
              "      <td>2</td>\n",
              "      <td>1990</td>\n",
              "    </tr>\n",
              "    <tr>\n",
              "      <th>1</th>\n",
              "      <td>5</td>\n",
              "      <td>2</td>\n",
              "      <td>1991</td>\n",
              "    </tr>\n",
              "    <tr>\n",
              "      <th>2</th>\n",
              "      <td>46</td>\n",
              "      <td>17</td>\n",
              "      <td>1992</td>\n",
              "    </tr>\n",
              "    <tr>\n",
              "      <th>3</th>\n",
              "      <td>12</td>\n",
              "      <td>0</td>\n",
              "      <td>1993</td>\n",
              "    </tr>\n",
              "    <tr>\n",
              "      <th>4</th>\n",
              "      <td>50</td>\n",
              "      <td>13</td>\n",
              "      <td>1994</td>\n",
              "    </tr>\n",
              "  </tbody>\n",
              "</table>\n",
              "</div>\n",
              "      <button class=\"colab-df-convert\" onclick=\"convertToInteractive('df-81d6d060-725e-417d-81cb-2347cfcfe8c8')\"\n",
              "              title=\"Convert this dataframe to an interactive table.\"\n",
              "              style=\"display:none;\">\n",
              "        \n",
              "  <svg xmlns=\"http://www.w3.org/2000/svg\" height=\"24px\"viewBox=\"0 0 24 24\"\n",
              "       width=\"24px\">\n",
              "    <path d=\"M0 0h24v24H0V0z\" fill=\"none\"/>\n",
              "    <path d=\"M18.56 5.44l.94 2.06.94-2.06 2.06-.94-2.06-.94-.94-2.06-.94 2.06-2.06.94zm-11 1L8.5 8.5l.94-2.06 2.06-.94-2.06-.94L8.5 2.5l-.94 2.06-2.06.94zm10 10l.94 2.06.94-2.06 2.06-.94-2.06-.94-.94-2.06-.94 2.06-2.06.94z\"/><path d=\"M17.41 7.96l-1.37-1.37c-.4-.4-.92-.59-1.43-.59-.52 0-1.04.2-1.43.59L10.3 9.45l-7.72 7.72c-.78.78-.78 2.05 0 2.83L4 21.41c.39.39.9.59 1.41.59.51 0 1.02-.2 1.41-.59l7.78-7.78 2.81-2.81c.8-.78.8-2.07 0-2.86zM5.41 20L4 18.59l7.72-7.72 1.47 1.35L5.41 20z\"/>\n",
              "  </svg>\n",
              "      </button>\n",
              "      \n",
              "  <style>\n",
              "    .colab-df-container {\n",
              "      display:flex;\n",
              "      flex-wrap:wrap;\n",
              "      gap: 12px;\n",
              "    }\n",
              "\n",
              "    .colab-df-convert {\n",
              "      background-color: #E8F0FE;\n",
              "      border: none;\n",
              "      border-radius: 50%;\n",
              "      cursor: pointer;\n",
              "      display: none;\n",
              "      fill: #1967D2;\n",
              "      height: 32px;\n",
              "      padding: 0 0 0 0;\n",
              "      width: 32px;\n",
              "    }\n",
              "\n",
              "    .colab-df-convert:hover {\n",
              "      background-color: #E2EBFA;\n",
              "      box-shadow: 0px 1px 2px rgba(60, 64, 67, 0.3), 0px 1px 3px 1px rgba(60, 64, 67, 0.15);\n",
              "      fill: #174EA6;\n",
              "    }\n",
              "\n",
              "    [theme=dark] .colab-df-convert {\n",
              "      background-color: #3B4455;\n",
              "      fill: #D2E3FC;\n",
              "    }\n",
              "\n",
              "    [theme=dark] .colab-df-convert:hover {\n",
              "      background-color: #434B5C;\n",
              "      box-shadow: 0px 1px 3px 1px rgba(0, 0, 0, 0.15);\n",
              "      filter: drop-shadow(0px 1px 2px rgba(0, 0, 0, 0.3));\n",
              "      fill: #FFFFFF;\n",
              "    }\n",
              "  </style>\n",
              "\n",
              "      <script>\n",
              "        const buttonEl =\n",
              "          document.querySelector('#df-81d6d060-725e-417d-81cb-2347cfcfe8c8 button.colab-df-convert');\n",
              "        buttonEl.style.display =\n",
              "          google.colab.kernel.accessAllowed ? 'block' : 'none';\n",
              "\n",
              "        async function convertToInteractive(key) {\n",
              "          const element = document.querySelector('#df-81d6d060-725e-417d-81cb-2347cfcfe8c8');\n",
              "          const dataTable =\n",
              "            await google.colab.kernel.invokeFunction('convertToInteractive',\n",
              "                                                     [key], {});\n",
              "          if (!dataTable) return;\n",
              "\n",
              "          const docLinkHtml = 'Like what you see? Visit the ' +\n",
              "            '<a target=\"_blank\" href=https://colab.research.google.com/notebooks/data_table.ipynb>data table notebook</a>'\n",
              "            + ' to learn more about interactive tables.';\n",
              "          element.innerHTML = '';\n",
              "          dataTable['output_type'] = 'display_data';\n",
              "          await google.colab.output.renderOutput(dataTable, element);\n",
              "          const docLink = document.createElement('div');\n",
              "          docLink.innerHTML = docLinkHtml;\n",
              "          element.appendChild(docLink);\n",
              "        }\n",
              "      </script>\n",
              "    </div>\n",
              "  </div>\n",
              "  "
            ]
          },
          "metadata": {},
          "execution_count": 173
        }
      ]
    },
    {
      "cell_type": "code",
      "source": [],
      "metadata": {
        "id": "LLgn8DorIypT"
      },
      "id": "LLgn8DorIypT",
      "execution_count": 173,
      "outputs": []
    },
    {
      "cell_type": "code",
      "source": [
        "import plotly.express as px\n",
        "\n",
        "fig = px.bar(data_list, x=\"Year\", y=\"Near to Equitempered\", color=\"No of Samples\")\n",
        "fig.update_layout(title_text='Evolution of Tonic', title_x=0.5)\n",
        "fig.show()"
      ],
      "metadata": {
        "colab": {
          "base_uri": "https://localhost:8080/",
          "height": 542
        },
        "id": "ExVRKNojCZE3",
        "outputId": "c17a8d00-fea8-45c6-f1fe-aa3b769d1e2e"
      },
      "id": "ExVRKNojCZE3",
      "execution_count": 174,
      "outputs": [
        {
          "output_type": "display_data",
          "data": {
            "text/html": [
              "<html>\n",
              "<head><meta charset=\"utf-8\" /></head>\n",
              "<body>\n",
              "    <div>            <script src=\"https://cdnjs.cloudflare.com/ajax/libs/mathjax/2.7.5/MathJax.js?config=TeX-AMS-MML_SVG\"></script><script type=\"text/javascript\">if (window.MathJax) {MathJax.Hub.Config({SVG: {font: \"STIX-Web\"}});}</script>                <script type=\"text/javascript\">window.PlotlyConfig = {MathJaxConfig: 'local'};</script>\n",
              "        <script src=\"https://cdn.plot.ly/plotly-2.8.3.min.js\"></script>                <div id=\"821c7904-fa80-4364-a1ab-1d3c6447dcc1\" class=\"plotly-graph-div\" style=\"height:525px; width:100%;\"></div>            <script type=\"text/javascript\">                                    window.PLOTLYENV=window.PLOTLYENV || {};                                    if (document.getElementById(\"821c7904-fa80-4364-a1ab-1d3c6447dcc1\")) {                    Plotly.newPlot(                        \"821c7904-fa80-4364-a1ab-1d3c6447dcc1\",                        [{\"alignmentgroup\":\"True\",\"hovertemplate\":\"Year=%{x}<br>Near to Equitempered=%{y}<br>No of Samples=%{marker.color}<extra></extra>\",\"legendgroup\":\"\",\"marker\":{\"color\":[16,5,46,12,50,25,26,27,28,18,24,87,61,35,34,74,77,85,142,126,257,244],\"coloraxis\":\"coloraxis\",\"pattern\":{\"shape\":\"\"}},\"name\":\"\",\"offsetgroup\":\"\",\"orientation\":\"v\",\"showlegend\":false,\"textposition\":\"auto\",\"x\":[\"1990\",\"1991\",\"1992\",\"1993\",\"1994\",\"1995\",\"1996\",\"1997\",\"1998\",\"1999\",\"2000\",\"2001\",\"2002\",\"2003\",\"2004\",\"2005\",\"2006\",\"2007\",\"2008\",\"2009\",\"2010\",\"2011\"],\"xaxis\":\"x\",\"y\":[2,2,17,0,13,10,3,5,6,0,14,18,10,15,14,19,21,23,52,18,111,94],\"yaxis\":\"y\",\"type\":\"bar\"}],                        {\"template\":{\"data\":{\"bar\":[{\"error_x\":{\"color\":\"#2a3f5f\"},\"error_y\":{\"color\":\"#2a3f5f\"},\"marker\":{\"line\":{\"color\":\"#E5ECF6\",\"width\":0.5},\"pattern\":{\"fillmode\":\"overlay\",\"size\":10,\"solidity\":0.2}},\"type\":\"bar\"}],\"barpolar\":[{\"marker\":{\"line\":{\"color\":\"#E5ECF6\",\"width\":0.5},\"pattern\":{\"fillmode\":\"overlay\",\"size\":10,\"solidity\":0.2}},\"type\":\"barpolar\"}],\"carpet\":[{\"aaxis\":{\"endlinecolor\":\"#2a3f5f\",\"gridcolor\":\"white\",\"linecolor\":\"white\",\"minorgridcolor\":\"white\",\"startlinecolor\":\"#2a3f5f\"},\"baxis\":{\"endlinecolor\":\"#2a3f5f\",\"gridcolor\":\"white\",\"linecolor\":\"white\",\"minorgridcolor\":\"white\",\"startlinecolor\":\"#2a3f5f\"},\"type\":\"carpet\"}],\"choropleth\":[{\"colorbar\":{\"outlinewidth\":0,\"ticks\":\"\"},\"type\":\"choropleth\"}],\"contour\":[{\"colorbar\":{\"outlinewidth\":0,\"ticks\":\"\"},\"colorscale\":[[0.0,\"#0d0887\"],[0.1111111111111111,\"#46039f\"],[0.2222222222222222,\"#7201a8\"],[0.3333333333333333,\"#9c179e\"],[0.4444444444444444,\"#bd3786\"],[0.5555555555555556,\"#d8576b\"],[0.6666666666666666,\"#ed7953\"],[0.7777777777777778,\"#fb9f3a\"],[0.8888888888888888,\"#fdca26\"],[1.0,\"#f0f921\"]],\"type\":\"contour\"}],\"contourcarpet\":[{\"colorbar\":{\"outlinewidth\":0,\"ticks\":\"\"},\"type\":\"contourcarpet\"}],\"heatmap\":[{\"colorbar\":{\"outlinewidth\":0,\"ticks\":\"\"},\"colorscale\":[[0.0,\"#0d0887\"],[0.1111111111111111,\"#46039f\"],[0.2222222222222222,\"#7201a8\"],[0.3333333333333333,\"#9c179e\"],[0.4444444444444444,\"#bd3786\"],[0.5555555555555556,\"#d8576b\"],[0.6666666666666666,\"#ed7953\"],[0.7777777777777778,\"#fb9f3a\"],[0.8888888888888888,\"#fdca26\"],[1.0,\"#f0f921\"]],\"type\":\"heatmap\"}],\"heatmapgl\":[{\"colorbar\":{\"outlinewidth\":0,\"ticks\":\"\"},\"colorscale\":[[0.0,\"#0d0887\"],[0.1111111111111111,\"#46039f\"],[0.2222222222222222,\"#7201a8\"],[0.3333333333333333,\"#9c179e\"],[0.4444444444444444,\"#bd3786\"],[0.5555555555555556,\"#d8576b\"],[0.6666666666666666,\"#ed7953\"],[0.7777777777777778,\"#fb9f3a\"],[0.8888888888888888,\"#fdca26\"],[1.0,\"#f0f921\"]],\"type\":\"heatmapgl\"}],\"histogram\":[{\"marker\":{\"pattern\":{\"fillmode\":\"overlay\",\"size\":10,\"solidity\":0.2}},\"type\":\"histogram\"}],\"histogram2d\":[{\"colorbar\":{\"outlinewidth\":0,\"ticks\":\"\"},\"colorscale\":[[0.0,\"#0d0887\"],[0.1111111111111111,\"#46039f\"],[0.2222222222222222,\"#7201a8\"],[0.3333333333333333,\"#9c179e\"],[0.4444444444444444,\"#bd3786\"],[0.5555555555555556,\"#d8576b\"],[0.6666666666666666,\"#ed7953\"],[0.7777777777777778,\"#fb9f3a\"],[0.8888888888888888,\"#fdca26\"],[1.0,\"#f0f921\"]],\"type\":\"histogram2d\"}],\"histogram2dcontour\":[{\"colorbar\":{\"outlinewidth\":0,\"ticks\":\"\"},\"colorscale\":[[0.0,\"#0d0887\"],[0.1111111111111111,\"#46039f\"],[0.2222222222222222,\"#7201a8\"],[0.3333333333333333,\"#9c179e\"],[0.4444444444444444,\"#bd3786\"],[0.5555555555555556,\"#d8576b\"],[0.6666666666666666,\"#ed7953\"],[0.7777777777777778,\"#fb9f3a\"],[0.8888888888888888,\"#fdca26\"],[1.0,\"#f0f921\"]],\"type\":\"histogram2dcontour\"}],\"mesh3d\":[{\"colorbar\":{\"outlinewidth\":0,\"ticks\":\"\"},\"type\":\"mesh3d\"}],\"parcoords\":[{\"line\":{\"colorbar\":{\"outlinewidth\":0,\"ticks\":\"\"}},\"type\":\"parcoords\"}],\"pie\":[{\"automargin\":true,\"type\":\"pie\"}],\"scatter\":[{\"marker\":{\"colorbar\":{\"outlinewidth\":0,\"ticks\":\"\"}},\"type\":\"scatter\"}],\"scatter3d\":[{\"line\":{\"colorbar\":{\"outlinewidth\":0,\"ticks\":\"\"}},\"marker\":{\"colorbar\":{\"outlinewidth\":0,\"ticks\":\"\"}},\"type\":\"scatter3d\"}],\"scattercarpet\":[{\"marker\":{\"colorbar\":{\"outlinewidth\":0,\"ticks\":\"\"}},\"type\":\"scattercarpet\"}],\"scattergeo\":[{\"marker\":{\"colorbar\":{\"outlinewidth\":0,\"ticks\":\"\"}},\"type\":\"scattergeo\"}],\"scattergl\":[{\"marker\":{\"colorbar\":{\"outlinewidth\":0,\"ticks\":\"\"}},\"type\":\"scattergl\"}],\"scattermapbox\":[{\"marker\":{\"colorbar\":{\"outlinewidth\":0,\"ticks\":\"\"}},\"type\":\"scattermapbox\"}],\"scatterpolar\":[{\"marker\":{\"colorbar\":{\"outlinewidth\":0,\"ticks\":\"\"}},\"type\":\"scatterpolar\"}],\"scatterpolargl\":[{\"marker\":{\"colorbar\":{\"outlinewidth\":0,\"ticks\":\"\"}},\"type\":\"scatterpolargl\"}],\"scatterternary\":[{\"marker\":{\"colorbar\":{\"outlinewidth\":0,\"ticks\":\"\"}},\"type\":\"scatterternary\"}],\"surface\":[{\"colorbar\":{\"outlinewidth\":0,\"ticks\":\"\"},\"colorscale\":[[0.0,\"#0d0887\"],[0.1111111111111111,\"#46039f\"],[0.2222222222222222,\"#7201a8\"],[0.3333333333333333,\"#9c179e\"],[0.4444444444444444,\"#bd3786\"],[0.5555555555555556,\"#d8576b\"],[0.6666666666666666,\"#ed7953\"],[0.7777777777777778,\"#fb9f3a\"],[0.8888888888888888,\"#fdca26\"],[1.0,\"#f0f921\"]],\"type\":\"surface\"}],\"table\":[{\"cells\":{\"fill\":{\"color\":\"#EBF0F8\"},\"line\":{\"color\":\"white\"}},\"header\":{\"fill\":{\"color\":\"#C8D4E3\"},\"line\":{\"color\":\"white\"}},\"type\":\"table\"}]},\"layout\":{\"annotationdefaults\":{\"arrowcolor\":\"#2a3f5f\",\"arrowhead\":0,\"arrowwidth\":1},\"autotypenumbers\":\"strict\",\"coloraxis\":{\"colorbar\":{\"outlinewidth\":0,\"ticks\":\"\"}},\"colorscale\":{\"diverging\":[[0,\"#8e0152\"],[0.1,\"#c51b7d\"],[0.2,\"#de77ae\"],[0.3,\"#f1b6da\"],[0.4,\"#fde0ef\"],[0.5,\"#f7f7f7\"],[0.6,\"#e6f5d0\"],[0.7,\"#b8e186\"],[0.8,\"#7fbc41\"],[0.9,\"#4d9221\"],[1,\"#276419\"]],\"sequential\":[[0.0,\"#0d0887\"],[0.1111111111111111,\"#46039f\"],[0.2222222222222222,\"#7201a8\"],[0.3333333333333333,\"#9c179e\"],[0.4444444444444444,\"#bd3786\"],[0.5555555555555556,\"#d8576b\"],[0.6666666666666666,\"#ed7953\"],[0.7777777777777778,\"#fb9f3a\"],[0.8888888888888888,\"#fdca26\"],[1.0,\"#f0f921\"]],\"sequentialminus\":[[0.0,\"#0d0887\"],[0.1111111111111111,\"#46039f\"],[0.2222222222222222,\"#7201a8\"],[0.3333333333333333,\"#9c179e\"],[0.4444444444444444,\"#bd3786\"],[0.5555555555555556,\"#d8576b\"],[0.6666666666666666,\"#ed7953\"],[0.7777777777777778,\"#fb9f3a\"],[0.8888888888888888,\"#fdca26\"],[1.0,\"#f0f921\"]]},\"colorway\":[\"#636efa\",\"#EF553B\",\"#00cc96\",\"#ab63fa\",\"#FFA15A\",\"#19d3f3\",\"#FF6692\",\"#B6E880\",\"#FF97FF\",\"#FECB52\"],\"font\":{\"color\":\"#2a3f5f\"},\"geo\":{\"bgcolor\":\"white\",\"lakecolor\":\"white\",\"landcolor\":\"#E5ECF6\",\"showlakes\":true,\"showland\":true,\"subunitcolor\":\"white\"},\"hoverlabel\":{\"align\":\"left\"},\"hovermode\":\"closest\",\"mapbox\":{\"style\":\"light\"},\"paper_bgcolor\":\"white\",\"plot_bgcolor\":\"#E5ECF6\",\"polar\":{\"angularaxis\":{\"gridcolor\":\"white\",\"linecolor\":\"white\",\"ticks\":\"\"},\"bgcolor\":\"#E5ECF6\",\"radialaxis\":{\"gridcolor\":\"white\",\"linecolor\":\"white\",\"ticks\":\"\"}},\"scene\":{\"xaxis\":{\"backgroundcolor\":\"#E5ECF6\",\"gridcolor\":\"white\",\"gridwidth\":2,\"linecolor\":\"white\",\"showbackground\":true,\"ticks\":\"\",\"zerolinecolor\":\"white\"},\"yaxis\":{\"backgroundcolor\":\"#E5ECF6\",\"gridcolor\":\"white\",\"gridwidth\":2,\"linecolor\":\"white\",\"showbackground\":true,\"ticks\":\"\",\"zerolinecolor\":\"white\"},\"zaxis\":{\"backgroundcolor\":\"#E5ECF6\",\"gridcolor\":\"white\",\"gridwidth\":2,\"linecolor\":\"white\",\"showbackground\":true,\"ticks\":\"\",\"zerolinecolor\":\"white\"}},\"shapedefaults\":{\"line\":{\"color\":\"#2a3f5f\"}},\"ternary\":{\"aaxis\":{\"gridcolor\":\"white\",\"linecolor\":\"white\",\"ticks\":\"\"},\"baxis\":{\"gridcolor\":\"white\",\"linecolor\":\"white\",\"ticks\":\"\"},\"bgcolor\":\"#E5ECF6\",\"caxis\":{\"gridcolor\":\"white\",\"linecolor\":\"white\",\"ticks\":\"\"}},\"title\":{\"x\":0.05},\"xaxis\":{\"automargin\":true,\"gridcolor\":\"white\",\"linecolor\":\"white\",\"ticks\":\"\",\"title\":{\"standoff\":15},\"zerolinecolor\":\"white\",\"zerolinewidth\":2},\"yaxis\":{\"automargin\":true,\"gridcolor\":\"white\",\"linecolor\":\"white\",\"ticks\":\"\",\"title\":{\"standoff\":15},\"zerolinecolor\":\"white\",\"zerolinewidth\":2}}},\"xaxis\":{\"anchor\":\"y\",\"domain\":[0.0,1.0],\"title\":{\"text\":\"Year\"}},\"yaxis\":{\"anchor\":\"x\",\"domain\":[0.0,1.0],\"title\":{\"text\":\"Near to Equitempered\"}},\"coloraxis\":{\"colorbar\":{\"title\":{\"text\":\"No of Samples\"}},\"colorscale\":[[0.0,\"#0d0887\"],[0.1111111111111111,\"#46039f\"],[0.2222222222222222,\"#7201a8\"],[0.3333333333333333,\"#9c179e\"],[0.4444444444444444,\"#bd3786\"],[0.5555555555555556,\"#d8576b\"],[0.6666666666666666,\"#ed7953\"],[0.7777777777777778,\"#fb9f3a\"],[0.8888888888888888,\"#fdca26\"],[1.0,\"#f0f921\"]]},\"legend\":{\"tracegroupgap\":0},\"margin\":{\"t\":60},\"barmode\":\"relative\",\"title\":{\"text\":\"Evolution of Tonic\",\"x\":0.5}},                        {\"responsive\": true}                    ).then(function(){\n",
              "                            \n",
              "var gd = document.getElementById('821c7904-fa80-4364-a1ab-1d3c6447dcc1');\n",
              "var x = new MutationObserver(function (mutations, observer) {{\n",
              "        var display = window.getComputedStyle(gd).display;\n",
              "        if (!display || display === 'none') {{\n",
              "            console.log([gd, 'removed!']);\n",
              "            Plotly.purge(gd);\n",
              "            observer.disconnect();\n",
              "        }}\n",
              "}});\n",
              "\n",
              "// Listen for the removal of the full notebook cells\n",
              "var notebookContainer = gd.closest('#notebook-container');\n",
              "if (notebookContainer) {{\n",
              "    x.observe(notebookContainer, {childList: true});\n",
              "}}\n",
              "\n",
              "// Listen for the clearing of the current output cell\n",
              "var outputEl = gd.closest('.output');\n",
              "if (outputEl) {{\n",
              "    x.observe(outputEl, {childList: true});\n",
              "}}\n",
              "\n",
              "                        })                };                            </script>        </div>\n",
              "</body>\n",
              "</html>"
            ]
          },
          "metadata": {}
        }
      ]
    },
    {
      "cell_type": "code",
      "source": [],
      "metadata": {
        "id": "QgQ6ACXyGlf3"
      },
      "id": "QgQ6ACXyGlf3",
      "execution_count": 174,
      "outputs": []
    },
    {
      "cell_type": "code",
      "source": [],
      "metadata": {
        "id": "maFB6dqcGldA"
      },
      "id": "maFB6dqcGldA",
      "execution_count": 174,
      "outputs": []
    },
    {
      "cell_type": "code",
      "source": [],
      "metadata": {
        "id": "0xuNPQqfGlaK"
      },
      "id": "0xuNPQqfGlaK",
      "execution_count": 174,
      "outputs": []
    },
    {
      "cell_type": "code",
      "execution_count": 175,
      "id": "a08e34ac",
      "metadata": {
        "id": "a08e34ac"
      },
      "outputs": [],
      "source": [
        "increasing_tonic=[22,5,10 ,40,43 ,64 ,88 ,89 ]\n",
        "octave_error=[0,2,12,24,26,28,44,60  ,61 ,69  ,72  ,84 ,99 ,110  ]\n",
        "decreasing_tonic=[31,38 ,39 ,83   ,86 ]\n",
        "exact_tonic=[35,103]"
      ]
    },
    {
      "cell_type": "code",
      "execution_count": 176,
      "id": "57ff5f27",
      "metadata": {
        "colab": {
          "base_uri": "https://localhost:8080/"
        },
        "id": "57ff5f27",
        "outputId": "6f2d7c66-6493-4e0a-c37d-193379f20cb0"
      },
      "outputs": [
        {
          "output_type": "stream",
          "name": "stdout",
          "text": [
            "7.017543859649122\n",
            "4.385964912280701\n",
            "12.280701754385964\n"
          ]
        }
      ],
      "source": [
        "print((len(increasing_tonic)/114)*100)\n",
        "print((len(decreasing_tonic)/114)*100)\n",
        "print((len(octave_error)/114)*100)"
      ]
    },
    {
      "cell_type": "code",
      "execution_count": 177,
      "id": "277dfb47",
      "metadata": {
        "id": "277dfb47"
      },
      "outputs": [],
      "source": [
        "#Analysis\n",
        "#Percentage of Octave Error, artist wise and overall, Male/Female Ratio in this\n",
        "#Increase tonic percentage of artists Male/Female Ratio\n",
        "#Decrease tonic percentage of artists Male/Female Ratio\n",
        "#Moving Towards Temporal Scale Overall \n",
        "#Moving Towards Temporal Scale Artist Wise"
      ]
    },
    {
      "cell_type": "code",
      "source": [
        "artist_analysis=[]\n",
        "for i in decreasing_tonic:\n",
        "    x,y=get_tonic_avg(data_artist_wise[i])\n",
        "    a=data_artist_wise[i]['artist'].unique()\n",
        "    artist_analysis.append([a[0],x,y])"
      ],
      "metadata": {
        "id": "9Qn0SDcCSn2c"
      },
      "id": "9Qn0SDcCSn2c",
      "execution_count": 297,
      "outputs": []
    },
    {
      "cell_type": "code",
      "source": [
        "def clean_data(k):\n",
        "  name = k[0]\n",
        "  year, tonic = [], []\n",
        "  for i in range(len(k[1])):\n",
        "    year.append(k[1][i][0])\n",
        "  for i in range(len(k[2])):\n",
        "    tonic.append(k[2][i])\n",
        "  return name, year, tonic"
      ],
      "metadata": {
        "id": "QoGlBcbWU7cf"
      },
      "id": "QoGlBcbWU7cf",
      "execution_count": 298,
      "outputs": []
    },
    {
      "cell_type": "code",
      "source": [
        "name, year, tonic = [], [], []\n",
        "\n",
        "for i in range(len(artist_analysis)):\n",
        "  n, y, t = clean_data(artist_analysis[i])\n",
        "  name.append(n)\n",
        "  year.append(y)\n",
        "  tonic.append(t)"
      ],
      "metadata": {
        "id": "Z91T48HMVtwj"
      },
      "id": "Z91T48HMVtwj",
      "execution_count": 299,
      "outputs": []
    },
    {
      "cell_type": "code",
      "source": [
        "import plotly.express as px\n",
        "\n",
        "def plot_plots(name, year, tonic):\n",
        "  plot_list = pd.DataFrame(\n",
        "    {'Year': year,\n",
        "     'Average Tonic': tonic\n",
        "    })\n",
        "  fig = px.line(plot_list, x='Year', y='Average Tonic')\n",
        "  fig.update_layout(title_text=name, title_x=0.5)\n",
        "  fig.show()"
      ],
      "metadata": {
        "id": "s3v4NKZLWLtJ"
      },
      "id": "s3v4NKZLWLtJ",
      "execution_count": 300,
      "outputs": []
    },
    {
      "cell_type": "code",
      "source": [
        "idx=0\n",
        "plot_plots(name[idx], year[idx], tonic[idx])"
      ],
      "metadata": {
        "colab": {
          "base_uri": "https://localhost:8080/",
          "height": 542
        },
        "id": "LH4WUvmPUEsx",
        "outputId": "5eb72771-cf9d-4f34-cfd5-3a0d37a8beef"
      },
      "id": "LH4WUvmPUEsx",
      "execution_count": 306,
      "outputs": [
        {
          "output_type": "display_data",
          "data": {
            "text/html": [
              "<html>\n",
              "<head><meta charset=\"utf-8\" /></head>\n",
              "<body>\n",
              "    <div>            <script src=\"https://cdnjs.cloudflare.com/ajax/libs/mathjax/2.7.5/MathJax.js?config=TeX-AMS-MML_SVG\"></script><script type=\"text/javascript\">if (window.MathJax) {MathJax.Hub.Config({SVG: {font: \"STIX-Web\"}});}</script>                <script type=\"text/javascript\">window.PlotlyConfig = {MathJaxConfig: 'local'};</script>\n",
              "        <script src=\"https://cdn.plot.ly/plotly-2.8.3.min.js\"></script>                <div id=\"850d2690-d5e6-405d-92d1-7975651258a1\" class=\"plotly-graph-div\" style=\"height:525px; width:100%;\"></div>            <script type=\"text/javascript\">                                    window.PLOTLYENV=window.PLOTLYENV || {};                                    if (document.getElementById(\"850d2690-d5e6-405d-92d1-7975651258a1\")) {                    Plotly.newPlot(                        \"850d2690-d5e6-405d-92d1-7975651258a1\",                        [{\"hovertemplate\":\"Year=%{x}<br>Average Tonic=%{y}<extra></extra>\",\"legendgroup\":\"\",\"line\":{\"color\":\"#636efa\",\"dash\":\"solid\"},\"marker\":{\"symbol\":\"circle\"},\"mode\":\"lines\",\"name\":\"\",\"orientation\":\"v\",\"showlegend\":false,\"x\":[\"2001\",\"2010\"],\"xaxis\":\"x\",\"y\":[147.29216666666667,141.5953143333333],\"yaxis\":\"y\",\"type\":\"scatter\"}],                        {\"template\":{\"data\":{\"bar\":[{\"error_x\":{\"color\":\"#2a3f5f\"},\"error_y\":{\"color\":\"#2a3f5f\"},\"marker\":{\"line\":{\"color\":\"#E5ECF6\",\"width\":0.5},\"pattern\":{\"fillmode\":\"overlay\",\"size\":10,\"solidity\":0.2}},\"type\":\"bar\"}],\"barpolar\":[{\"marker\":{\"line\":{\"color\":\"#E5ECF6\",\"width\":0.5},\"pattern\":{\"fillmode\":\"overlay\",\"size\":10,\"solidity\":0.2}},\"type\":\"barpolar\"}],\"carpet\":[{\"aaxis\":{\"endlinecolor\":\"#2a3f5f\",\"gridcolor\":\"white\",\"linecolor\":\"white\",\"minorgridcolor\":\"white\",\"startlinecolor\":\"#2a3f5f\"},\"baxis\":{\"endlinecolor\":\"#2a3f5f\",\"gridcolor\":\"white\",\"linecolor\":\"white\",\"minorgridcolor\":\"white\",\"startlinecolor\":\"#2a3f5f\"},\"type\":\"carpet\"}],\"choropleth\":[{\"colorbar\":{\"outlinewidth\":0,\"ticks\":\"\"},\"type\":\"choropleth\"}],\"contour\":[{\"colorbar\":{\"outlinewidth\":0,\"ticks\":\"\"},\"colorscale\":[[0.0,\"#0d0887\"],[0.1111111111111111,\"#46039f\"],[0.2222222222222222,\"#7201a8\"],[0.3333333333333333,\"#9c179e\"],[0.4444444444444444,\"#bd3786\"],[0.5555555555555556,\"#d8576b\"],[0.6666666666666666,\"#ed7953\"],[0.7777777777777778,\"#fb9f3a\"],[0.8888888888888888,\"#fdca26\"],[1.0,\"#f0f921\"]],\"type\":\"contour\"}],\"contourcarpet\":[{\"colorbar\":{\"outlinewidth\":0,\"ticks\":\"\"},\"type\":\"contourcarpet\"}],\"heatmap\":[{\"colorbar\":{\"outlinewidth\":0,\"ticks\":\"\"},\"colorscale\":[[0.0,\"#0d0887\"],[0.1111111111111111,\"#46039f\"],[0.2222222222222222,\"#7201a8\"],[0.3333333333333333,\"#9c179e\"],[0.4444444444444444,\"#bd3786\"],[0.5555555555555556,\"#d8576b\"],[0.6666666666666666,\"#ed7953\"],[0.7777777777777778,\"#fb9f3a\"],[0.8888888888888888,\"#fdca26\"],[1.0,\"#f0f921\"]],\"type\":\"heatmap\"}],\"heatmapgl\":[{\"colorbar\":{\"outlinewidth\":0,\"ticks\":\"\"},\"colorscale\":[[0.0,\"#0d0887\"],[0.1111111111111111,\"#46039f\"],[0.2222222222222222,\"#7201a8\"],[0.3333333333333333,\"#9c179e\"],[0.4444444444444444,\"#bd3786\"],[0.5555555555555556,\"#d8576b\"],[0.6666666666666666,\"#ed7953\"],[0.7777777777777778,\"#fb9f3a\"],[0.8888888888888888,\"#fdca26\"],[1.0,\"#f0f921\"]],\"type\":\"heatmapgl\"}],\"histogram\":[{\"marker\":{\"pattern\":{\"fillmode\":\"overlay\",\"size\":10,\"solidity\":0.2}},\"type\":\"histogram\"}],\"histogram2d\":[{\"colorbar\":{\"outlinewidth\":0,\"ticks\":\"\"},\"colorscale\":[[0.0,\"#0d0887\"],[0.1111111111111111,\"#46039f\"],[0.2222222222222222,\"#7201a8\"],[0.3333333333333333,\"#9c179e\"],[0.4444444444444444,\"#bd3786\"],[0.5555555555555556,\"#d8576b\"],[0.6666666666666666,\"#ed7953\"],[0.7777777777777778,\"#fb9f3a\"],[0.8888888888888888,\"#fdca26\"],[1.0,\"#f0f921\"]],\"type\":\"histogram2d\"}],\"histogram2dcontour\":[{\"colorbar\":{\"outlinewidth\":0,\"ticks\":\"\"},\"colorscale\":[[0.0,\"#0d0887\"],[0.1111111111111111,\"#46039f\"],[0.2222222222222222,\"#7201a8\"],[0.3333333333333333,\"#9c179e\"],[0.4444444444444444,\"#bd3786\"],[0.5555555555555556,\"#d8576b\"],[0.6666666666666666,\"#ed7953\"],[0.7777777777777778,\"#fb9f3a\"],[0.8888888888888888,\"#fdca26\"],[1.0,\"#f0f921\"]],\"type\":\"histogram2dcontour\"}],\"mesh3d\":[{\"colorbar\":{\"outlinewidth\":0,\"ticks\":\"\"},\"type\":\"mesh3d\"}],\"parcoords\":[{\"line\":{\"colorbar\":{\"outlinewidth\":0,\"ticks\":\"\"}},\"type\":\"parcoords\"}],\"pie\":[{\"automargin\":true,\"type\":\"pie\"}],\"scatter\":[{\"marker\":{\"colorbar\":{\"outlinewidth\":0,\"ticks\":\"\"}},\"type\":\"scatter\"}],\"scatter3d\":[{\"line\":{\"colorbar\":{\"outlinewidth\":0,\"ticks\":\"\"}},\"marker\":{\"colorbar\":{\"outlinewidth\":0,\"ticks\":\"\"}},\"type\":\"scatter3d\"}],\"scattercarpet\":[{\"marker\":{\"colorbar\":{\"outlinewidth\":0,\"ticks\":\"\"}},\"type\":\"scattercarpet\"}],\"scattergeo\":[{\"marker\":{\"colorbar\":{\"outlinewidth\":0,\"ticks\":\"\"}},\"type\":\"scattergeo\"}],\"scattergl\":[{\"marker\":{\"colorbar\":{\"outlinewidth\":0,\"ticks\":\"\"}},\"type\":\"scattergl\"}],\"scattermapbox\":[{\"marker\":{\"colorbar\":{\"outlinewidth\":0,\"ticks\":\"\"}},\"type\":\"scattermapbox\"}],\"scatterpolar\":[{\"marker\":{\"colorbar\":{\"outlinewidth\":0,\"ticks\":\"\"}},\"type\":\"scatterpolar\"}],\"scatterpolargl\":[{\"marker\":{\"colorbar\":{\"outlinewidth\":0,\"ticks\":\"\"}},\"type\":\"scatterpolargl\"}],\"scatterternary\":[{\"marker\":{\"colorbar\":{\"outlinewidth\":0,\"ticks\":\"\"}},\"type\":\"scatterternary\"}],\"surface\":[{\"colorbar\":{\"outlinewidth\":0,\"ticks\":\"\"},\"colorscale\":[[0.0,\"#0d0887\"],[0.1111111111111111,\"#46039f\"],[0.2222222222222222,\"#7201a8\"],[0.3333333333333333,\"#9c179e\"],[0.4444444444444444,\"#bd3786\"],[0.5555555555555556,\"#d8576b\"],[0.6666666666666666,\"#ed7953\"],[0.7777777777777778,\"#fb9f3a\"],[0.8888888888888888,\"#fdca26\"],[1.0,\"#f0f921\"]],\"type\":\"surface\"}],\"table\":[{\"cells\":{\"fill\":{\"color\":\"#EBF0F8\"},\"line\":{\"color\":\"white\"}},\"header\":{\"fill\":{\"color\":\"#C8D4E3\"},\"line\":{\"color\":\"white\"}},\"type\":\"table\"}]},\"layout\":{\"annotationdefaults\":{\"arrowcolor\":\"#2a3f5f\",\"arrowhead\":0,\"arrowwidth\":1},\"autotypenumbers\":\"strict\",\"coloraxis\":{\"colorbar\":{\"outlinewidth\":0,\"ticks\":\"\"}},\"colorscale\":{\"diverging\":[[0,\"#8e0152\"],[0.1,\"#c51b7d\"],[0.2,\"#de77ae\"],[0.3,\"#f1b6da\"],[0.4,\"#fde0ef\"],[0.5,\"#f7f7f7\"],[0.6,\"#e6f5d0\"],[0.7,\"#b8e186\"],[0.8,\"#7fbc41\"],[0.9,\"#4d9221\"],[1,\"#276419\"]],\"sequential\":[[0.0,\"#0d0887\"],[0.1111111111111111,\"#46039f\"],[0.2222222222222222,\"#7201a8\"],[0.3333333333333333,\"#9c179e\"],[0.4444444444444444,\"#bd3786\"],[0.5555555555555556,\"#d8576b\"],[0.6666666666666666,\"#ed7953\"],[0.7777777777777778,\"#fb9f3a\"],[0.8888888888888888,\"#fdca26\"],[1.0,\"#f0f921\"]],\"sequentialminus\":[[0.0,\"#0d0887\"],[0.1111111111111111,\"#46039f\"],[0.2222222222222222,\"#7201a8\"],[0.3333333333333333,\"#9c179e\"],[0.4444444444444444,\"#bd3786\"],[0.5555555555555556,\"#d8576b\"],[0.6666666666666666,\"#ed7953\"],[0.7777777777777778,\"#fb9f3a\"],[0.8888888888888888,\"#fdca26\"],[1.0,\"#f0f921\"]]},\"colorway\":[\"#636efa\",\"#EF553B\",\"#00cc96\",\"#ab63fa\",\"#FFA15A\",\"#19d3f3\",\"#FF6692\",\"#B6E880\",\"#FF97FF\",\"#FECB52\"],\"font\":{\"color\":\"#2a3f5f\"},\"geo\":{\"bgcolor\":\"white\",\"lakecolor\":\"white\",\"landcolor\":\"#E5ECF6\",\"showlakes\":true,\"showland\":true,\"subunitcolor\":\"white\"},\"hoverlabel\":{\"align\":\"left\"},\"hovermode\":\"closest\",\"mapbox\":{\"style\":\"light\"},\"paper_bgcolor\":\"white\",\"plot_bgcolor\":\"#E5ECF6\",\"polar\":{\"angularaxis\":{\"gridcolor\":\"white\",\"linecolor\":\"white\",\"ticks\":\"\"},\"bgcolor\":\"#E5ECF6\",\"radialaxis\":{\"gridcolor\":\"white\",\"linecolor\":\"white\",\"ticks\":\"\"}},\"scene\":{\"xaxis\":{\"backgroundcolor\":\"#E5ECF6\",\"gridcolor\":\"white\",\"gridwidth\":2,\"linecolor\":\"white\",\"showbackground\":true,\"ticks\":\"\",\"zerolinecolor\":\"white\"},\"yaxis\":{\"backgroundcolor\":\"#E5ECF6\",\"gridcolor\":\"white\",\"gridwidth\":2,\"linecolor\":\"white\",\"showbackground\":true,\"ticks\":\"\",\"zerolinecolor\":\"white\"},\"zaxis\":{\"backgroundcolor\":\"#E5ECF6\",\"gridcolor\":\"white\",\"gridwidth\":2,\"linecolor\":\"white\",\"showbackground\":true,\"ticks\":\"\",\"zerolinecolor\":\"white\"}},\"shapedefaults\":{\"line\":{\"color\":\"#2a3f5f\"}},\"ternary\":{\"aaxis\":{\"gridcolor\":\"white\",\"linecolor\":\"white\",\"ticks\":\"\"},\"baxis\":{\"gridcolor\":\"white\",\"linecolor\":\"white\",\"ticks\":\"\"},\"bgcolor\":\"#E5ECF6\",\"caxis\":{\"gridcolor\":\"white\",\"linecolor\":\"white\",\"ticks\":\"\"}},\"title\":{\"x\":0.05},\"xaxis\":{\"automargin\":true,\"gridcolor\":\"white\",\"linecolor\":\"white\",\"ticks\":\"\",\"title\":{\"standoff\":15},\"zerolinecolor\":\"white\",\"zerolinewidth\":2},\"yaxis\":{\"automargin\":true,\"gridcolor\":\"white\",\"linecolor\":\"white\",\"ticks\":\"\",\"title\":{\"standoff\":15},\"zerolinecolor\":\"white\",\"zerolinewidth\":2}}},\"xaxis\":{\"anchor\":\"y\",\"domain\":[0.0,1.0],\"title\":{\"text\":\"Year\"}},\"yaxis\":{\"anchor\":\"x\",\"domain\":[0.0,1.0],\"title\":{\"text\":\"Average Tonic\"}},\"legend\":{\"tracegroupgap\":0},\"margin\":{\"t\":60},\"title\":{\"text\":\"Ajoy Chakraborty\",\"x\":0.5}},                        {\"responsive\": true}                    ).then(function(){\n",
              "                            \n",
              "var gd = document.getElementById('850d2690-d5e6-405d-92d1-7975651258a1');\n",
              "var x = new MutationObserver(function (mutations, observer) {{\n",
              "        var display = window.getComputedStyle(gd).display;\n",
              "        if (!display || display === 'none') {{\n",
              "            console.log([gd, 'removed!']);\n",
              "            Plotly.purge(gd);\n",
              "            observer.disconnect();\n",
              "        }}\n",
              "}});\n",
              "\n",
              "// Listen for the removal of the full notebook cells\n",
              "var notebookContainer = gd.closest('#notebook-container');\n",
              "if (notebookContainer) {{\n",
              "    x.observe(notebookContainer, {childList: true});\n",
              "}}\n",
              "\n",
              "// Listen for the clearing of the current output cell\n",
              "var outputEl = gd.closest('.output');\n",
              "if (outputEl) {{\n",
              "    x.observe(outputEl, {childList: true});\n",
              "}}\n",
              "\n",
              "                        })                };                            </script>        </div>\n",
              "</body>\n",
              "</html>"
            ]
          },
          "metadata": {}
        }
      ]
    },
    {
      "cell_type": "code",
      "source": [],
      "metadata": {
        "id": "yzx4s9saUEpm"
      },
      "id": "yzx4s9saUEpm",
      "execution_count": null,
      "outputs": []
    },
    {
      "cell_type": "code",
      "execution_count": 136,
      "id": "92d8976b",
      "metadata": {
        "colab": {
          "base_uri": "https://localhost:8080/"
        },
        "id": "92d8976b",
        "outputId": "23de7a28-df8e-43dd-f06b-a6cde7afa2a6"
      },
      "outputs": [
        {
          "output_type": "execute_result",
          "data": {
            "text/plain": [
              "26.703368216553447"
            ]
          },
          "metadata": {},
          "execution_count": 136
        }
      ],
      "source": [
        "f1=193\n",
        "f2=196\n",
        "cents=(1200*(np.log(f2/f1)))/np.log(2)\n",
        "cents"
      ]
    },
    {
      "cell_type": "code",
      "execution_count": 286,
      "id": "740822e5",
      "metadata": {
        "id": "740822e5"
      },
      "outputs": [],
      "source": [
        "increasing_tonic_gender=['Male', 'Male', 'Male', 'Male', 'Female', 'Male', 'Male', 'Male', 'Male']\n",
        "itg = [8, 1]\n",
        "decreasing_tonic_gender=['Male', 'Male', 'Male', 'Female', 'Male']\n",
        "dtg = [4, 1]"
      ]
    },
    {
      "cell_type": "code",
      "source": [
        "import matplotlib.pyplot as plt\n",
        "import numpy as np\n",
        "\n",
        "y = np.array(itg)\n",
        "mylabels = [\"Male\", \"Female\"]\n",
        "plt.title('Increasing Tonic')\n",
        "\n",
        "plt.pie(y, labels=mylabels)\n",
        "plt.show() "
      ],
      "metadata": {
        "colab": {
          "base_uri": "https://localhost:8080/",
          "height": 264
        },
        "id": "uDw-2Rj1fQvJ",
        "outputId": "aaecc0db-598d-45ec-ff92-4f9b4dc312cf"
      },
      "id": "uDw-2Rj1fQvJ",
      "execution_count": 287,
      "outputs": [
        {
          "output_type": "display_data",
          "data": {
            "text/plain": [
              "<Figure size 432x288 with 1 Axes>"
            ],
            "image/png": "[encoded data removed]"
          },
          "metadata": {}
        }
      ]
    },
    {
      "cell_type": "code",
      "source": [
        "# Creating dataset\n",
        "y = np.array(itg)\n",
        "mylabels = [\"Male\", \"Female\"]\n",
        " \n",
        " \n",
        "# Creating explode data\n",
        "explode = (0.1, 0.1)\n",
        " \n",
        "# Creating color parameters\n",
        "colors = ( \"green\", \"blue\",\n",
        "          \"grey\", \"brown\", \"red\")\n",
        " \n",
        "# Wedge properties\n",
        "wp = { 'linewidth' : 1, 'edgecolor' : \"black\" }\n",
        " \n",
        "# Creating autocpt arguments\n",
        "def func(pct, allvalues):\n",
        "    absolute = int(pct / 100.*np.sum(allvalues))\n",
        "    return \"{:.1f}%\".format(pct, absolute)\n",
        " \n",
        "# Creating plot\n",
        "fig, ax = plt.subplots(figsize =(10, 7))\n",
        "wedges, texts, autotexts = ax.pie(y,\n",
        "                                  autopct = lambda pct: func(pct, y),\n",
        "                                  explode = explode,\n",
        "                                  labels = mylabels,\n",
        "                                  shadow = True,\n",
        "                                  colors = colors,\n",
        "                                  startangle = 90,\n",
        "                                  wedgeprops = wp,\n",
        "                                  textprops = dict(color =\"black\"))\n",
        " \n",
        "# Adding legend\n",
        "ax.legend(wedges, mylabels,\n",
        "          title =\"Legends\",\n",
        "          loc =\"center left\",\n",
        "          bbox_to_anchor =(1, 0, 0.5, 1))\n",
        " \n",
        "plt.setp(autotexts, size = 8, weight =\"bold\")\n",
        "ax.set_title(\"Increasing Tonic\")\n",
        " \n",
        "# show plot\n",
        "plt.show()"
      ],
      "metadata": {
        "colab": {
          "base_uri": "https://localhost:8080/",
          "height": 427
        },
        "id": "spRgQDkPqSs_",
        "outputId": "50c10b04-497d-4bac-ee02-c8e8616f9a80"
      },
      "id": "spRgQDkPqSs_",
      "execution_count": 289,
      "outputs": [
        {
          "output_type": "display_data",
          "data": {
            "text/plain": [
              "<Figure size 720x504 with 1 Axes>"
            ],
            "image/png": "[encoded data removed]"
          },
          "metadata": {}
        }
      ]
    },
    {
      "cell_type": "code",
      "source": [
        "y = np.array(dtg)\n",
        "mylabels = [\"Male\", \"Female\"]\n",
        "plt.title('Decreasing Tonic')\n",
        "\n",
        "plt.pie(y, labels=mylabels)\n",
        "plt.show() "
      ],
      "metadata": {
        "colab": {
          "base_uri": "https://localhost:8080/",
          "height": 264
        },
        "id": "jAFSC6eGfQsR",
        "outputId": "2d0ffbcc-787c-4151-e32c-480550f76535"
      },
      "id": "jAFSC6eGfQsR",
      "execution_count": 290,
      "outputs": [
        {
          "output_type": "display_data",
          "data": {
            "text/plain": [
              "<Figure size 432x288 with 1 Axes>"
            ],
            "image/png": "[encoded data removed]"
          },
          "metadata": {}
        }
      ]
    },
    {
      "cell_type": "code",
      "source": [
        "# Creating dataset\n",
        "y = np.array(dtg)\n",
        "mylabels = [\"Male\", \"Female\"]\n",
        " \n",
        " \n",
        "# Creating explode data\n",
        "explode = (0.1, 0.1)\n",
        " \n",
        "# Creating color parameters\n",
        "colors = ( \"green\", \"blue\",\n",
        "          \"grey\", \"brown\", \"red\")\n",
        " \n",
        "# Wedge properties\n",
        "wp = { 'linewidth' : 1, 'edgecolor' : \"black\" }\n",
        " \n",
        "# Creating autocpt arguments\n",
        "def func(pct, allvalues):\n",
        "    absolute = int(pct / 100.*np.sum(allvalues))\n",
        "    return \"{:.1f}%\".format(pct, absolute)\n",
        " \n",
        "# Creating plot\n",
        "fig, ax = plt.subplots(figsize =(10, 7))\n",
        "wedges, texts, autotexts = ax.pie(y,\n",
        "                                  autopct = lambda pct: func(pct, y),\n",
        "                                  explode = explode,\n",
        "                                  labels = mylabels,\n",
        "                                  shadow = True,\n",
        "                                  colors = colors,\n",
        "                                  startangle = 90,\n",
        "                                  wedgeprops = wp,\n",
        "                                  textprops = dict(color =\"black\"))\n",
        " \n",
        "# Adding legend\n",
        "ax.legend(wedges, mylabels,\n",
        "          title =\"Legends\",\n",
        "          loc =\"center left\",\n",
        "          bbox_to_anchor =(1, 0, 0.5, 1))\n",
        " \n",
        "plt.setp(autotexts, size = 8, weight =\"bold\")\n",
        "ax.set_title(\"Decreasing Tonic\")\n",
        " \n",
        "# show plot\n",
        "plt.show()"
      ],
      "metadata": {
        "colab": {
          "base_uri": "https://localhost:8080/",
          "height": 427
        },
        "id": "1CqxYpm2q6q3",
        "outputId": "3046eee9-f1f2-4efe-9beb-f9edc79a3600"
      },
      "id": "1CqxYpm2q6q3",
      "execution_count": 291,
      "outputs": [
        {
          "output_type": "display_data",
          "data": {
            "text/plain": [
              "<Figure size 720x504 with 1 Axes>"
            ],
            "image/png": "[encoded data removed]"
          },
          "metadata": {}
        }
      ]
    },
    {
      "cell_type": "code",
      "source": [
        "# 116\n",
        "increasing_tonic=[22,5,10 ,40,43 ,64 ,88 ,89 ]\n",
        "decreasing_tonic=[31,38 ,39 ,83  ,86 ]"
      ],
      "metadata": {
        "id": "6w2TjRGxfQpq"
      },
      "id": "6w2TjRGxfQpq",
      "execution_count": 262,
      "outputs": []
    },
    {
      "cell_type": "code",
      "source": [],
      "metadata": {
        "id": "bo5JwKn8fQm1"
      },
      "id": "bo5JwKn8fQm1",
      "execution_count": 276,
      "outputs": []
    },
    {
      "cell_type": "code",
      "source": [
        "import numpy as np\n",
        "import matplotlib.pyplot as plt\n",
        " \n",
        " \n",
        "# Creating dataset\n",
        "values_idt = [9, 5, 19]\n",
        "label_idt = ['Increasing Tonic', 'Decreasing Tonic', 'Stable Tonic']\n",
        " \n",
        " \n",
        "# Creating explode data\n",
        "explode = (0.1, 0.0, 0.2)\n",
        " \n",
        "# Creating color parameters\n",
        "colors = ( \"orange\", \"brown\",\n",
        "          \"grey\", \"blue\", \"red\")\n",
        " \n",
        "# Wedge properties\n",
        "wp = { 'linewidth' : 1, 'edgecolor' : \"black\" }\n",
        " \n",
        "# Creating autocpt arguments\n",
        "def func(pct, allvalues):\n",
        "    absolute = int(pct / 100.*np.sum(allvalues))\n",
        "    return \"{:.1f}%\".format(pct, absolute)\n",
        " \n",
        "# Creating plot\n",
        "fig, ax = plt.subplots(figsize =(10, 7))\n",
        "wedges, texts, autotexts = ax.pie(values_idt,\n",
        "                                  autopct = lambda pct: func(pct, values_idt),\n",
        "                                  explode = explode,\n",
        "                                  labels = label_idt,\n",
        "                                  shadow = True,\n",
        "                                  colors = colors,\n",
        "                                  startangle = 90,\n",
        "                                  wedgeprops = wp,\n",
        "                                  textprops = dict(color =\"black\"))\n",
        " \n",
        "# Adding legend\n",
        "ax.legend(wedges, label_idt,\n",
        "          title =\"Legends\",\n",
        "          loc =\"center left\",\n",
        "          bbox_to_anchor =(1, 0, 0.5, 1))\n",
        " \n",
        "plt.setp(autotexts, size = 8, weight =\"bold\")\n",
        "ax.set_title(\"Tonic Change Distribution\")\n",
        " \n",
        "# show plot\n",
        "plt.show()"
      ],
      "metadata": {
        "colab": {
          "base_uri": "https://localhost:8080/",
          "height": 427
        },
        "id": "mMNj72AyfQkP",
        "outputId": "3c995b39-0119-460e-d1ea-ed46099ad8c8"
      },
      "id": "mMNj72AyfQkP",
      "execution_count": 280,
      "outputs": [
        {
          "output_type": "display_data",
          "data": {
            "text/plain": [
              "<Figure size 720x504 with 1 Axes>"
            ],
            "image/png": "[encoded data removed]"
          },
          "metadata": {}
        }
      ]
    },
    {
      "cell_type": "code",
      "source": [
        "# Creating dataset\n",
        "values_idt = [33, 83]\n",
        "label_idt = ['Sufficient Data', 'Insufficient Data']\n",
        " \n",
        " \n",
        "# Creating explode data\n",
        "explode = (0.1, 0.1)\n",
        " \n",
        "# Creating color parameters\n",
        "colors = ( \"orange\", \"brown\",\n",
        "          \"grey\", \"blue\", \"red\")\n",
        " \n",
        "# Wedge properties\n",
        "wp = { 'linewidth' : 1, 'edgecolor' : \"black\" }\n",
        " \n",
        "# Creating autocpt arguments\n",
        "def func(pct, allvalues):\n",
        "    absolute = int(pct / 100.*np.sum(allvalues))\n",
        "    return \"{:.1f}%\".format(pct, absolute)\n",
        " \n",
        "# Creating plot\n",
        "fig, ax = plt.subplots(figsize =(10, 7))\n",
        "wedges, texts, autotexts = ax.pie(values_idt,\n",
        "                                  autopct = lambda pct: func(pct, values_idt),\n",
        "                                  explode = explode,\n",
        "                                  labels = label_idt,\n",
        "                                  shadow = True,\n",
        "                                  colors = colors,\n",
        "                                  startangle = 90,\n",
        "                                  wedgeprops = wp,\n",
        "                                  textprops = dict(color =\"black\"))\n",
        " \n",
        "# Adding legend\n",
        "ax.legend(wedges, label_idt,\n",
        "          title =\"Legends\",\n",
        "          loc =\"center left\",\n",
        "          bbox_to_anchor =(1, 0, 0.5, 1))\n",
        " \n",
        "plt.setp(autotexts, size = 8, weight =\"bold\")\n",
        "ax.set_title(\"Available Dataset\")\n",
        " \n",
        "# show plot\n",
        "plt.show()"
      ],
      "metadata": {
        "colab": {
          "base_uri": "https://localhost:8080/",
          "height": 427
        },
        "id": "9sNvhFYofQh4",
        "outputId": "f8af0717-2db9-43ba-878d-c27adc8e16f0"
      },
      "id": "9sNvhFYofQh4",
      "execution_count": 282,
      "outputs": [
        {
          "output_type": "display_data",
          "data": {
            "text/plain": [
              "<Figure size 720x504 with 1 Axes>"
            ],
            "image/png": "[encoded data removed]"
          },
          "metadata": {}
        }
      ]
    },
    {
      "cell_type": "code",
      "source": [
        "# Creating dataset\n",
        "values_idt = [1524, 675]\n",
        "label_idt = ['Sufficient Data', 'Insufficient Data']\n",
        " \n",
        " \n",
        "# Creating explode data\n",
        "explode = (0.1, 0.1)\n",
        " \n",
        "# Creating color parameters\n",
        "colors = ( \"orange\", \"grey\",\n",
        "          \"brown\", \"blue\", \"red\")\n",
        " \n",
        "# Wedge properties\n",
        "wp = { 'linewidth' : 1, 'edgecolor' : \"black\" }\n",
        " \n",
        "# Creating autocpt arguments\n",
        "def func(pct, allvalues):\n",
        "    absolute = int(pct / 100.*np.sum(allvalues))\n",
        "    return \"{:.1f}%\".format(pct, absolute)\n",
        " \n",
        "# Creating plot\n",
        "fig, ax = plt.subplots(figsize =(10, 7))\n",
        "wedges, texts, autotexts = ax.pie(values_idt,\n",
        "                                  autopct = lambda pct: func(pct, values_idt),\n",
        "                                  explode = explode,\n",
        "                                  labels = label_idt,\n",
        "                                  shadow = True,\n",
        "                                  colors = colors,\n",
        "                                  startangle = 90,\n",
        "                                  wedgeprops = wp,\n",
        "                                  textprops = dict(color =\"black\"))\n",
        " \n",
        "# Adding legend\n",
        "ax.legend(wedges, label_idt,\n",
        "          title =\"Legends\",\n",
        "          loc =\"center left\",\n",
        "          bbox_to_anchor =(1, 0, 0.5, 1))\n",
        " \n",
        "plt.setp(autotexts, size = 8, weight =\"bold\")\n",
        "ax.set_title(\"Total Dataset\")\n",
        " \n",
        "# show plot\n",
        "plt.show()"
      ],
      "metadata": {
        "colab": {
          "base_uri": "https://localhost:8080/",
          "height": 427
        },
        "id": "oVyQYJIgp33j",
        "outputId": "841b58f5-a41e-4597-910e-b7fe3a683640"
      },
      "id": "oVyQYJIgp33j",
      "execution_count": 307,
      "outputs": [
        {
          "output_type": "display_data",
          "data": {
            "text/plain": [
              "<Figure size 720x504 with 1 Axes>"
            ],
            "image/png": "[encoded data removed]"
          },
          "metadata": {}
        }
      ]
    },
    {
      "cell_type": "code",
      "source": [
        "# Creating dataset\n",
        "values_idt = [13, 101, 4]\n",
        "label_idt = ['Octave Error', 'No Error', 'Others']\n",
        " \n",
        " \n",
        "# Creating explode data\n",
        "explode = (0.1, 0.1, 0.2)\n",
        " \n",
        "# Creating color parameters\n",
        "colors = ( \"orange\", \"grey\",\n",
        "          \"brown\", \"blue\", \"red\")\n",
        " \n",
        "# Wedge properties\n",
        "wp = { 'linewidth' : 1, 'edgecolor' : \"black\" }\n",
        " \n",
        "# Creating autocpt arguments\n",
        "def func(pct, allvalues):\n",
        "    absolute = int(pct / 100.*np.sum(allvalues))\n",
        "    return \"{:.1f}%\".format(pct, absolute)\n",
        " \n",
        "# Creating plot\n",
        "fig, ax = plt.subplots(figsize =(10, 7))\n",
        "wedges, texts, autotexts = ax.pie(values_idt,\n",
        "                                  autopct = lambda pct: func(pct, values_idt),\n",
        "                                  explode = explode,\n",
        "                                  labels = label_idt,\n",
        "                                  shadow = True,\n",
        "                                  colors = colors,\n",
        "                                  startangle = 90,\n",
        "                                  wedgeprops = wp,\n",
        "                                  textprops = dict(color =\"black\"))\n",
        " \n",
        "# Adding legend\n",
        "ax.legend(wedges, label_idt,\n",
        "          title =\"Legends\",\n",
        "          loc =\"center left\",\n",
        "          bbox_to_anchor =(1, 0, 0.5, 1))\n",
        " \n",
        "plt.setp(autotexts, size = 8, weight =\"bold\")\n",
        "#ax.set_title(\"Data Observation\")\n",
        " \n",
        "# show plot\n",
        "plt.show()"
      ],
      "metadata": {
        "colab": {
          "base_uri": "https://localhost:8080/",
          "height": 423
        },
        "id": "HPDMz3fz0Rxc",
        "outputId": "a9b78d10-e9d8-4006-c947-b70e25cbaf57"
      },
      "id": "HPDMz3fz0Rxc",
      "execution_count": 309,
      "outputs": [
        {
          "output_type": "display_data",
          "data": {
            "text/plain": [
              "<Figure size 720x504 with 1 Axes>"
            ],
            "image/png": "[encoded data removed]"
          },
          "metadata": {}
        }
      ]
    },
    {
      "cell_type": "code",
      "source": [],
      "metadata": {
        "id": "w1lGDPqz2o1A"
      },
      "id": "w1lGDPqz2o1A",
      "execution_count": null,
      "outputs": []
    }
  ],
  "metadata": {
    "kernelspec": {
      "display_name": "compmusic",
      "language": "python",
      "name": "compmusic"
    },
    "language_info": {
      "codemirror_mode": {
        "name": "ipython",
        "version": 3
      },
      "file_extension": ".py",
      "mimetype": "text/x-python",
      "name": "python",
      "nbconvert_exporter": "python",
      "pygments_lexer": "ipython3",
      "version": "3.9.0"
    },
    "colab": {
      "provenance": []
    }
  },
  "nbformat": 4,
  "nbformat_minor": 5
}