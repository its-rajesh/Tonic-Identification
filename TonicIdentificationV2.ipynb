{
 "cells": [
  {
   "cell_type": "code",
   "execution_count": 1,
   "id": "8a27a019-a62e-4d58-a42b-8c170abb27db",
   "metadata": {},
   "outputs": [],
   "source": [
    "import librosa as lb\n",
    "import numpy as np\n",
    "from matplotlib import pyplot as plt\n",
    "import pandas as pd\n",
    "import os\n",
    "from tqdm import tqdm\n",
    "import re"
   ]
  },
  {
   "cell_type": "code",
   "execution_count": 2,
   "id": "7b50d103-1eb9-4cca-8786-e4a858898b61",
   "metadata": {},
   "outputs": [],
   "source": [
    "import warnings\n",
    "warnings.filterwarnings('ignore')"
   ]
  },
  {
   "cell_type": "code",
   "execution_count": 3,
   "id": "06c19cd7-52b6-469e-94a5-235d7db76d91",
   "metadata": {},
   "outputs": [],
   "source": [
    "csv_path = '/Users/rajeshr/Desktop/all_data_with_date.csv'\n",
    "file = pd.read_csv(csv_path)"
   ]
  },
  {
   "cell_type": "code",
   "execution_count": 4,
   "id": "8139f944-f75a-419c-8137-48ab988dca2d",
   "metadata": {},
   "outputs": [
    {
     "data": {
      "text/html": [
       "<div>\n",
       "<style scoped>\n",
       "    .dataframe tbody tr th:only-of-type {\n",
       "        vertical-align: middle;\n",
       "    }\n",
       "\n",
       "    .dataframe tbody tr th {\n",
       "        vertical-align: top;\n",
       "    }\n",
       "\n",
       "    .dataframe thead th {\n",
       "        text-align: right;\n",
       "    }\n",
       "</style>\n",
       "<table border=\"1\" class=\"dataframe\">\n",
       "  <thead>\n",
       "    <tr style=\"text-align: right;\">\n",
       "      <th></th>\n",
       "      <th>0</th>\n",
       "      <th>filepath</th>\n",
       "      <th>tonic</th>\n",
       "    </tr>\n",
       "  </thead>\n",
       "  <tbody>\n",
       "    <tr>\n",
       "      <th>0</th>\n",
       "      <td>CM</td>\n",
       "      <td>TonicDataset/CM/audio/402f49e2-5957-4b24-9229-...</td>\n",
       "      <td>161.748</td>\n",
       "    </tr>\n",
       "    <tr>\n",
       "      <th>1</th>\n",
       "      <td>CM</td>\n",
       "      <td>TonicDataset/CM/audio/0640aaa2-45c8-48ef-b1ed-...</td>\n",
       "      <td>161.743</td>\n",
       "    </tr>\n",
       "    <tr>\n",
       "      <th>2</th>\n",
       "      <td>CM</td>\n",
       "      <td>TonicDataset/CM/audio/90c3b772-189c-411e-aea5-...</td>\n",
       "      <td>154.871</td>\n",
       "    </tr>\n",
       "    <tr>\n",
       "      <th>3</th>\n",
       "      <td>CM</td>\n",
       "      <td>TonicDataset/CM/audio/c5976719-6376-4522-b62e-...</td>\n",
       "      <td>161.845</td>\n",
       "    </tr>\n",
       "    <tr>\n",
       "      <th>4</th>\n",
       "      <td>CM</td>\n",
       "      <td>TonicDataset/CM/audio/6f4cc2d5-b062-40f9-bdf1-...</td>\n",
       "      <td>156.456</td>\n",
       "    </tr>\n",
       "  </tbody>\n",
       "</table>\n",
       "</div>"
      ],
      "text/plain": [
       "    0                                           filepath    tonic\n",
       "0  CM  TonicDataset/CM/audio/402f49e2-5957-4b24-9229-...  161.748\n",
       "1  CM  TonicDataset/CM/audio/0640aaa2-45c8-48ef-b1ed-...  161.743\n",
       "2  CM  TonicDataset/CM/audio/90c3b772-189c-411e-aea5-...  154.871\n",
       "3  CM  TonicDataset/CM/audio/c5976719-6376-4522-b62e-...  161.845\n",
       "4  CM  TonicDataset/CM/audio/6f4cc2d5-b062-40f9-bdf1-...  156.456"
      ]
     },
     "execution_count": 4,
     "metadata": {},
     "output_type": "execute_result"
    }
   ],
   "source": [
    "dataset_type = []\n",
    "for i in range(2199):\n",
    "    k = file['filepath'][i].split('/')[1]\n",
    "    dataset_type.append(k)\n",
    "    \n",
    "dataset_type = pd.DataFrame(dataset_type)\n",
    "dataset_type[\"filepath\"] = file['filepath']\n",
    "dataset_type[\"tonic\"] = file['tonic']\n",
    "dataset_type.head()"
   ]
  },
  {
   "cell_type": "code",
   "execution_count": 5,
   "id": "474cb36b-586b-4960-8da2-c4230eafc03b",
   "metadata": {},
   "outputs": [
    {
     "name": "stderr",
     "output_type": "stream",
     "text": [
      "100%|███████████████████████████████████████████| 10/10 [00:46<00:00,  4.63s/it]\n"
     ]
    }
   ],
   "source": [
    "cm, tonic_cm = [], []\n",
    "features = []\n",
    "\n",
    "for i in tqdm(range(0,10)):\n",
    "    if dataset_type[0][i] == 'CM':\n",
    "        y, fs = lb.load(dataset_type[\"filepath\"][i], sr=8000, mono=True)\n",
    "        if len(y)/fs == 180:\n",
    "\n",
    "            spect = lb.stft(y)\n",
    "            harmonic, percussive = lb.decompose.hpss(spect, margin=16)\n",
    "            freqs = lb.fft_frequencies(sr=fs)\n",
    "            harms = [1, 2]\n",
    "            salience = lb.salience(np.abs(harmonic), freqs=freqs, harmonics=harms)\n",
    "            salience = np.nan_to_num(salience)\n",
    "            \n",
    "            features.append( np.dstack((np.abs(spect), np.abs(harmonic), np.abs(salience))) )\n",
    "            \n",
    "            tonic_cm.append(dataset_type[\"tonic\"][i])"
   ]
  },
  {
   "cell_type": "code",
   "execution_count": 6,
   "id": "fcf2ed26-43f4-4841-9c91-c02b8fe7b976",
   "metadata": {},
   "outputs": [],
   "source": [
    "a = len(features)\n",
    "l = int(a*0.8)\n",
    "\n",
    "feature = np.array(features)\n",
    "groundTruth = np.array(tonic_cm)\n",
    "\n",
    "xtrain, ytrain, xtest, ytest = feature[:l], groundTruth[:l], feature[l:], groundTruth[l:]"
   ]
  },
  {
   "cell_type": "code",
   "execution_count": 7,
   "id": "3e8f4c1e-c00c-4c7d-8475-e4bb81aadb49",
   "metadata": {},
   "outputs": [
    {
     "data": {
      "text/plain": [
       "((2, 1025, 2813, 3), (2,))"
      ]
     },
     "execution_count": 7,
     "metadata": {},
     "output_type": "execute_result"
    }
   ],
   "source": [
    "xtest.shape, ytest.shape"
   ]
  },
  {
   "cell_type": "code",
   "execution_count": null,
   "id": "a54b9f97-aa54-46e4-b34f-614ccf446dc0",
   "metadata": {},
   "outputs": [],
   "source": []
  },
  {
   "cell_type": "code",
   "execution_count": null,
   "id": "8446a998-54ff-4e20-941e-70fa3d1d41a6",
   "metadata": {},
   "outputs": [],
   "source": []
  },
  {
   "cell_type": "code",
   "execution_count": null,
   "id": "d0838d67-170a-4f22-93d1-7b6d9d7ce72f",
   "metadata": {},
   "outputs": [],
   "source": []
  },
  {
   "cell_type": "code",
   "execution_count": 8,
   "id": "2d38b20d-98e4-4cbb-af91-6d777cba3590",
   "metadata": {},
   "outputs": [],
   "source": [
    "from keras.layers import Input, Dense, Conv3D, Conv2D, MaxPooling2D, MaxPooling3D, \\\n",
    "Flatten, Dropout, BatchNormalization, Reshape\n",
    "from keras.models import Model"
   ]
  },
  {
   "cell_type": "code",
   "execution_count": 9,
   "id": "3a0d1f56-3c3f-4c9e-9967-47dcc0e42bb1",
   "metadata": {},
   "outputs": [
    {
     "name": "stdout",
     "output_type": "stream",
     "text": [
      "(None, 1025, 2813, 3, 1)\n"
     ]
    }
   ],
   "source": [
    "batch_size = 16\n",
    "epochs = 20\n",
    "inp = Input(shape=(1025, 2813, 3, 1))\n",
    "print(inp.shape)"
   ]
  },
  {
   "cell_type": "code",
   "execution_count": 10,
   "id": "32986a9c-6593-4fd2-a013-f40511118bc0",
   "metadata": {},
   "outputs": [
    {
     "name": "stdout",
     "output_type": "stream",
     "text": [
      "INPUT (None, 1025, 2813, 3, 1)\n",
      "1st Layer (None, 337, 933, 3, 64)\n",
      "2nd Layer (None, 109, 308, 2, 32)\n",
      "3rd Layer (None, 35, 101, 1, 16)\n",
      "Flatten Layer (None, 56560)\n",
      "Dense Layer (None, 100)\n",
      "Output Layer (None, 1)\n"
     ]
    }
   ],
   "source": [
    "print(\"INPUT\", inp.shape)\n",
    "\n",
    "\n",
    "# Conv1 #\n",
    "x = Conv3D(64, (15, 15, 1), activation='relu', input_shape=inp.shape)(inp)\n",
    "x = BatchNormalization()(x)\n",
    "x = MaxPooling3D(pool_size=(3, 3, 1))(x)\n",
    "x = Dropout(0.30)(x)\n",
    "print(\"1st Layer\", x.shape)\n",
    "\n",
    "# Conv2 #\n",
    "x = Conv3D(32, (9, 9, 2), activation='relu')(x)\n",
    "x = BatchNormalization()(x)\n",
    "x = MaxPooling3D(pool_size=(3, 3, 1))(x)\n",
    "x = Dropout(0.30)(x)\n",
    "print(\"2nd Layer\", x.shape)\n",
    "\n",
    "# Conv 3 #\n",
    "x = Conv3D(16, (5, 5, 2), activation='relu')(x)\n",
    "x = BatchNormalization()(x)\n",
    "x = MaxPooling3D(pool_size=(3, 3, 1))(x)\n",
    "x = Dropout(0.30)(x)\n",
    "print(\"3rd Layer\", x.shape)\n",
    "\n",
    "x = Flatten()(x)\n",
    "print(\"Flatten Layer\", x.shape)\n",
    "\n",
    "x = Dense(100, activation='relu')(x)\n",
    "print(\"Dense Layer\", x.shape)\n",
    "\n",
    "x = Dense(1, activation='relu')(x)\n",
    "print(\"Output Layer\", x.shape)"
   ]
  },
  {
   "cell_type": "code",
   "execution_count": null,
   "id": "3a1a0db8-f233-4de9-85f2-61e4712af31b",
   "metadata": {},
   "outputs": [
    {
     "name": "stdout",
     "output_type": "stream",
     "text": [
      "Epoch 1/20\n"
     ]
    },
    {
     "name": "stderr",
     "output_type": "stream",
     "text": [
      "2022-12-15 17:10:39.182679: W tensorflow/core/platform/profile_utils/cpu_utils.cc:128] Failed to get CPU frequency: 0 Hz\n"
     ]
    }
   ],
   "source": [
    "tonic_id = Model(inputs = inp, outputs = x)\n",
    "tonic_id.compile(loss='MeanSquaredError', optimizer = 'adam', metrics='accuracy') \n",
    "tonic_id_train = tonic_id.fit(xtrain, ytrain, epochs = epochs ,batch_size=batch_size)"
   ]
  },
  {
   "cell_type": "code",
   "execution_count": null,
   "id": "d09c527c-cb03-474d-8190-8ae415512610",
   "metadata": {},
   "outputs": [],
   "source": [
    "test_eval = tonic_id.evaluate(xtest,  ytest, verbose=0)\n",
    "print('Test', test_eval)"
   ]
  },
  {
   "cell_type": "code",
   "execution_count": null,
   "id": "020db277-78bb-4631-b5f1-e003356208af",
   "metadata": {},
   "outputs": [],
   "source": [
    "plt.plot(tonic_id_train.history['accuracy'])\n",
    "plt.legend(['training'], loc = 'upper left')\n",
    "plt.show()"
   ]
  },
  {
   "cell_type": "code",
   "execution_count": null,
   "id": "ed33ee9a-f793-4255-a494-36ba43323416",
   "metadata": {},
   "outputs": [],
   "source": [
    "plt.plot(tonic_id_train.history['loss'])\n",
    "plt.legend(['training'], loc = 'upper left')\n",
    "plt.show()"
   ]
  },
  {
   "cell_type": "code",
   "execution_count": null,
   "id": "bfcd1f80-c67f-463e-80f8-38f3cd4903b2",
   "metadata": {},
   "outputs": [],
   "source": [
    "predictions = tonic_id.predict(x_test, verbose=1)\n",
    "predictions.shape"
   ]
  },
  {
   "cell_type": "code",
   "execution_count": null,
   "id": "c864f402-bc30-4c9e-bd78-7b80b7e825f1",
   "metadata": {},
   "outputs": [],
   "source": []
  }
 ],
 "metadata": {
  "kernelspec": {
   "display_name": "Python 3 (ipykernel)",
   "language": "python",
   "name": "python3"
  },
  "language_info": {
   "codemirror_mode": {
    "name": "ipython",
    "version": 3
   },
   "file_extension": ".py",
   "mimetype": "text/x-python",
   "name": "python",
   "nbconvert_exporter": "python",
   "pygments_lexer": "ipython3",
   "version": "3.10.6"
  }
 },
 "nbformat": 4,
 "nbformat_minor": 5
}
